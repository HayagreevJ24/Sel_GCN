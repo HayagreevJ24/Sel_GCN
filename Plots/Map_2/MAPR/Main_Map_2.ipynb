{
 "cells": [
  {
   "cell_type": "code",
   "execution_count": 1,
   "id": "629c6e68-5318-4a2d-97d6-4686d27c5f4d",
   "metadata": {
    "execution": {
     "iopub.execute_input": "2024-05-03T17:00:07.180314Z",
     "iopub.status.busy": "2024-05-03T17:00:07.180090Z",
     "iopub.status.idle": "2024-05-03T17:00:07.187373Z",
     "shell.execute_reply": "2024-05-03T17:00:07.186400Z",
     "shell.execute_reply.started": "2024-05-03T17:00:07.180292Z"
    }
   },
   "outputs": [
    {
     "data": {
      "text/plain": [
       "'\\nScript containing the training and testing loop for DQNAgent\\n'"
      ]
     },
     "execution_count": 1,
     "metadata": {},
     "output_type": "execute_result"
    }
   ],
   "source": [
    "\"\"\"\n",
    "Script containing the training and testing loop for DQNAgent\n",
    "\"\"\""
   ]
  },
  {
   "cell_type": "markdown",
   "id": "1726de25-b651-4c8d-b15e-80a4489661bd",
   "metadata": {},
   "source": [
    "Import Libraries"
   ]
  },
  {
   "cell_type": "code",
   "execution_count": 2,
   "id": "838e6d4d-1b85-4181-9619-d521845f3e17",
   "metadata": {
    "execution": {
     "iopub.execute_input": "2024-05-03T17:00:07.188310Z",
     "iopub.status.busy": "2024-05-03T17:00:07.188121Z",
     "iopub.status.idle": "2024-05-03T17:00:08.253242Z",
     "shell.execute_reply": "2024-05-03T17:00:08.247103Z",
     "shell.execute_reply.started": "2024-05-03T17:00:07.188294Z"
    }
   },
   "outputs": [
    {
     "name": "stdout",
     "output_type": "stream",
     "text": [
      "pygame 2.5.2 (SDL 2.28.2, Python 3.12.2)\n",
      "Hello from the pygame community. https://www.pygame.org/contribute.html\n"
     ]
    }
   ],
   "source": [
    "import os\n",
    "import sys\n",
    "import numpy as np\n",
    "from tqdm import tqdm\n",
    "import matplotlib.pyplot as plt\n",
    "import random\n",
    "import torch\n",
    "import timeit\n",
    "import json\n",
    "\n",
    "from multiprocessing import Pool\n",
    "\n",
    "import pygame\n",
    "\n",
    "pygame.init()\n",
    "pygame.mixer.init()\n",
    "sound = pygame.mixer.Sound('alarm.mpeg')\n",
    "\n",
    "torch.set_num_threads(os.cpu_count())"
   ]
  },
  {
   "cell_type": "code",
   "execution_count": null,
   "id": "7e1b4c16-4daa-46d2-ad57-4d57fc5dd816",
   "metadata": {},
   "outputs": [],
   "source": []
  },
  {
   "cell_type": "code",
   "execution_count": 3,
   "id": "a1739245-d86b-48c6-92f5-11def66856ed",
   "metadata": {
    "execution": {
     "iopub.execute_input": "2024-05-03T17:00:08.259564Z",
     "iopub.status.busy": "2024-05-03T17:00:08.258878Z",
     "iopub.status.idle": "2024-05-03T17:00:08.263570Z",
     "shell.execute_reply": "2024-05-03T17:00:08.263067Z",
     "shell.execute_reply.started": "2024-05-03T17:00:08.259540Z"
    }
   },
   "outputs": [],
   "source": [
    "seed = 0\n",
    "\n",
    "random.seed(seed)\n",
    "torch.manual_seed(seed)\n",
    "torch.cuda.manual_seed(seed)\n",
    "np.random.seed(seed)\n",
    "torch.cuda.manual_seed_all(seed)\n",
    "os.environ['PYTHONHASHSEED'] = str(seed)\n",
    "os.environ[\"CUBLAS_WORKSPACE_CONFIG\"]=\":4096:8\"\n",
    "\n",
    "torch.backends.cudnn.deterministic = True\n",
    "torch.backends.cudnn.benchmark = False\n",
    "torch.use_deterministic_algorithms(True)"
   ]
  },
  {
   "cell_type": "markdown",
   "id": "1ba4f158-f3c8-462e-8f9e-cc36e3aa9319",
   "metadata": {},
   "source": [
    "Set device to cuda and empty the cache to improve performance."
   ]
  },
  {
   "cell_type": "code",
   "execution_count": 4,
   "id": "46ce2766-b446-4dfe-8e1a-0fe0aeff5f69",
   "metadata": {
    "execution": {
     "iopub.execute_input": "2024-05-03T17:00:08.265191Z",
     "iopub.status.busy": "2024-05-03T17:00:08.264383Z",
     "iopub.status.idle": "2024-05-03T17:00:08.268955Z",
     "shell.execute_reply": "2024-05-03T17:00:08.268399Z",
     "shell.execute_reply.started": "2024-05-03T17:00:08.265172Z"
    }
   },
   "outputs": [
    {
     "name": "stdout",
     "output_type": "stream",
     "text": [
      "cpu\n"
     ]
    }
   ],
   "source": [
    "#device = torch.device(\"cuda\" if torch.cuda.is_available() else \"cpu\")\n",
    "device = torch.device(\"cpu\")\n",
    "print(device)\n",
    "torch.cuda.empty_cache()"
   ]
  },
  {
   "cell_type": "markdown",
   "id": "8cbf6705-6a1b-4323-bcb3-9118873c5b2a",
   "metadata": {},
   "source": [
    "Store the name of the folder in which the results are to be stored in folder_name variable."
   ]
  },
  {
   "cell_type": "code",
   "execution_count": 5,
   "id": "cd876408-4014-44d4-8efd-d9cdd3456cd1",
   "metadata": {
    "execution": {
     "iopub.execute_input": "2024-05-03T17:00:08.270496Z",
     "iopub.status.busy": "2024-05-03T17:00:08.270203Z",
     "iopub.status.idle": "2024-05-03T17:00:08.274503Z",
     "shell.execute_reply": "2024-05-03T17:00:08.274051Z",
     "shell.execute_reply.started": "2024-05-03T17:00:08.270477Z"
    }
   },
   "outputs": [],
   "source": [
    "'''\n",
    "if(len(sys.argv) <= 1):\n",
    "    print(\"Please provide the config file folder name\")\n",
    "    exit()\n",
    "'''\n",
    "\n",
    "folder_name = 'results_10x10_Stationary_Map_2'"
   ]
  },
  {
   "cell_type": "markdown",
   "id": "d3c20001-b4c3-4589-98f3-a652e2df45f9",
   "metadata": {},
   "source": [
    "Use the builtins package to store the name of the configurations file globally. "
   ]
  },
  {
   "cell_type": "code",
   "execution_count": 6,
   "id": "5b7075d2-a4e6-4245-b557-b207de46c294",
   "metadata": {
    "execution": {
     "iopub.execute_input": "2024-05-03T17:00:08.275481Z",
     "iopub.status.busy": "2024-05-03T17:00:08.275323Z",
     "iopub.status.idle": "2024-05-03T17:00:08.280015Z",
     "shell.execute_reply": "2024-05-03T17:00:08.279466Z",
     "shell.execute_reply.started": "2024-05-03T17:00:08.275469Z"
    }
   },
   "outputs": [
    {
     "data": {
      "text/plain": [
       "['results_10x10_Stationary_Map_3/config.ini']"
      ]
     },
     "execution_count": 6,
     "metadata": {},
     "output_type": "execute_result"
    }
   ],
   "source": [
    "from configparser import ConfigParser\n",
    "\n",
    "import builtins\n",
    "builtins.current_filename = \"{}/config.ini\".format(folder_name)\n",
    "configur = ConfigParser()\n",
    "configur.read(builtins.current_filename)"
   ]
  },
  {
   "cell_type": "markdown",
   "id": "244d367a-89be-44c1-a415-b46fc16022cb",
   "metadata": {},
   "source": [
    "Obtain certain variable names from the configuration folder."
   ]
  },
  {
   "cell_type": "markdown",
   "id": "4cb46b26-5460-40e5-9de9-7e1f80ba2bea",
   "metadata": {},
   "source": [
    "- num_memory_fill_eps: number of episodes for which to run the -code to fill replay memory of DQNs before actual training starts\n",
    "- tot_epsiodes: Total number of episodes to train the DQNs\n",
    "- tot_time: Total time elapsed in each episode\n",
    "- update_frequency: Number of episodes after which to udpdate the target network of agent\n",
    "- save_frequency - Frequency to save the policy network to the file\n",
    "- generate_packets_till: Number of episodes till which IoT Nodes will generate packets\n",
    "- gap_time - frequency for IotNodes to generate and transmit packages."
   ]
  },
  {
   "cell_type": "markdown",
   "id": "e86eaa2f-2ea8-405a-9eeb-41c5c3604b5b",
   "metadata": {},
   "source": [
    "- n - rows\n",
    "- m - columns\n",
    "- p - In case of a random map, p is the probability that a cell would have a UAV (It would have an IoT node with prob. 1-p)"
   ]
  },
  {
   "cell_type": "code",
   "execution_count": 7,
   "id": "aa4f8b08-7924-4549-ada5-780206e78896",
   "metadata": {
    "execution": {
     "iopub.execute_input": "2024-05-03T17:00:08.281127Z",
     "iopub.status.busy": "2024-05-03T17:00:08.280876Z",
     "iopub.status.idle": "2024-05-03T17:00:08.285062Z",
     "shell.execute_reply": "2024-05-03T17:00:08.284594Z",
     "shell.execute_reply.started": "2024-05-03T17:00:08.281108Z"
    }
   },
   "outputs": [],
   "source": [
    "num_memory_fill_eps = int(configur.get('train_model','num_memory_fill_eps'))\n",
    "tot_episodes = int(configur.get('train_model','tot_episodes'))\n",
    "tot_time = int(configur.get('train_model','tot_time'))\n",
    "update_frequency = int(configur.get('train_model','update_frequency'))\n",
    "save_frequency = int(configur.get('train_model','save_frequency'))\n",
    "generate_packets_till = int(configur.get('test_model','generate_packets_till'))\n",
    "gap_time= int(configur.get('train_model','gap_time'))\n",
    "\n",
    "n = int(configur.get('map','n'))\n",
    "m = int(configur.get('map','m'))\n",
    "p = float(configur.get('map','p'))"
   ]
  },
  {
   "cell_type": "markdown",
   "id": "a45a34cd-cb00-4dd9-9051-906dbe1a35a6",
   "metadata": {},
   "source": [
    "Create a Map object and store it in the map_ variable."
   ]
  },
  {
   "cell_type": "code",
   "execution_count": 8,
   "id": "2a1beb7f-7782-44b3-9de4-df7f585c744c",
   "metadata": {
    "execution": {
     "iopub.execute_input": "2024-05-03T17:00:08.285802Z",
     "iopub.status.busy": "2024-05-03T17:00:08.285609Z",
     "iopub.status.idle": "2024-05-03T17:00:08.479322Z",
     "shell.execute_reply": "2024-05-03T17:00:08.478858Z",
     "shell.execute_reply.started": "2024-05-03T17:00:08.285788Z"
    }
   },
   "outputs": [
    {
     "name": "stdout",
     "output_type": "stream",
     "text": [
      "results_10x10_Stationary_Map_3/config.ini\n"
     ]
    }
   ],
   "source": [
    "# map\n",
    "%run src/Map.ipynb\n",
    "map_ = Map(n,m,p)\n",
    "# map_.generate()\n",
    "#grid_map = map_.generate()\n",
    "\n",
    "## Initially\n",
    "#grid_map = map_.dummyMap()"
   ]
  },
  {
   "cell_type": "markdown",
   "id": "a72fba77-3da4-49ca-87f1-7c27e70dca43",
   "metadata": {},
   "source": [
    "Read the map"
   ]
  },
  {
   "cell_type": "markdown",
   "id": "60a22b4a-ef97-4bcd-a74c-44578ea3f08b",
   "metadata": {},
   "source": [
    "This function obtains the location and name of the text file containing the map from the config file and reads it.\n",
    "This means it basically had a matrix of all the objects in the map."
   ]
  },
  {
   "cell_type": "code",
   "execution_count": 9,
   "id": "e38fa55e-41d2-4d9a-aac1-73619129fa7e",
   "metadata": {
    "execution": {
     "iopub.execute_input": "2024-05-03T17:00:08.479896Z",
     "iopub.status.busy": "2024-05-03T17:00:08.479702Z",
     "iopub.status.idle": "2024-05-03T17:00:08.482771Z",
     "shell.execute_reply": "2024-05-03T17:00:08.482381Z",
     "shell.execute_reply.started": "2024-05-03T17:00:08.479886Z"
    }
   },
   "outputs": [],
   "source": [
    "map_.from_file_graph()"
   ]
  },
  {
   "cell_type": "markdown",
   "id": "7d041170-16d1-4067-91b3-6749c142126b",
   "metadata": {},
   "source": [
    "Store the BaseStation_obj, IotNodes and Agents."
   ]
  },
  {
   "cell_type": "code",
   "execution_count": 10,
   "id": "7f16b064-e49c-4c7d-9b4d-3c86d76e1140",
   "metadata": {
    "execution": {
     "iopub.execute_input": "2024-05-03T17:00:08.484033Z",
     "iopub.status.busy": "2024-05-03T17:00:08.483757Z",
     "iopub.status.idle": "2024-05-03T17:00:08.489975Z",
     "shell.execute_reply": "2024-05-03T17:00:08.489412Z",
     "shell.execute_reply.started": "2024-05-03T17:00:08.484021Z"
    }
   },
   "outputs": [],
   "source": [
    "#global variables\n",
    "IotNodes = map_.getIotNodes()\n",
    "BaseStation_obj = map_.getBaseStation()\n",
    "Agents = map_.getAgents()"
   ]
  },
  {
   "cell_type": "markdown",
   "id": "b64b9938-a3ff-4469-944e-9136b6965b3d",
   "metadata": {},
   "source": [
    "Fill the experience buffer\n",
    "- num_memory_fill_eps - number of episodes for which to run the code to fill replay memory of DQNs before actual training starts\n",
    "- tot_time: Total time elapsed in each episode\n",
    "- each packet generation takes place in an interval of gap_time.\n",
    "    - the packets are generated in the IotNodes, and send all the packets to the neighbour with the smallest queue.\n",
    "- each UAV has a random run in which nothing is displayed and no q_values are stored for plotting. and then the node is transferred from the latest_queue to its original queue, and its latest_queue is made empty.\n",
    "\n",
    "after each episode reset all the map to its original state."
   ]
  },
  {
   "cell_type": "code",
   "execution_count": 11,
   "id": "a953572e-02ac-430b-8aff-7a74bc9ec714",
   "metadata": {
    "execution": {
     "iopub.execute_input": "2024-05-03T17:00:08.490641Z",
     "iopub.status.busy": "2024-05-03T17:00:08.490471Z",
     "iopub.status.idle": "2024-05-03T17:00:08.493453Z",
     "shell.execute_reply": "2024-05-03T17:00:08.492947Z",
     "shell.execute_reply.started": "2024-05-03T17:00:08.490630Z"
    }
   },
   "outputs": [],
   "source": [
    "def fillMemory():\n",
    "\n",
    "    for _ in range(num_memory_fill_eps):\n",
    "\n",
    "        for step in range(tot_time):\n",
    "\n",
    "            if ((step % gap_time == 0) and (step < generate_packets_till)):\n",
    "                for node in IotNodes:\n",
    "                    node.run()\n",
    "\n",
    "            for agent in Agents:\n",
    "                agent.randomRun()\n",
    "\n",
    "            for agent in Agents:\n",
    "                agent.update_state()\n",
    "\n",
    "        map_.resetAll()             # make queues empty for agents, Recv Packets for BS = 0"
   ]
  },
  {
   "cell_type": "markdown",
   "id": "2ed9eceb-28df-4c89-9822-9c79a42bf200",
   "metadata": {},
   "source": [
    "train takes as input the result folder, and graphics option is used to render the map.\n",
    "the step count is initialised to 0, it measures the number of episode\n",
    "- for each episode\n",
    "    - In the interval of update frequency, transfer the policyDQN to the value or targetDQN of each UAV.\n",
    "    -  for time in the max duration of each episode\n",
    "            - each packet generation takes place in an interval of gap_time.\n",
    "            - the packets are generated in the IotNodes, and send all the packets to the neighbour with the smallest queue.\n",
    "       - each UAV has a run in which nothing is status is not displayed and q_values are stored for plotting. and then the node is transferred from the latest_queue to its original queue, and its latest_queue is made empty.\n",
    "       - If it is the last step in the episode, then render the map.\n",
    "    - after each episode of over\n",
    "        - increase the step count by 1.\n",
    "        - for each agent\n",
    "            - decreasethe epsilon of epsilon greedy algo\n",
    "            - store the loss for each agent in the losses list.\n",
    "        - reset the map\n",
    "    - at regular episode intervals, save the model for each of the agents"
   ]
  },
  {
   "cell_type": "code",
   "execution_count": 12,
   "id": "2b4f26b0-ed16-4497-81f7-ad6105d74dfe",
   "metadata": {
    "execution": {
     "iopub.execute_input": "2024-05-03T17:00:08.494238Z",
     "iopub.status.busy": "2024-05-03T17:00:08.494044Z",
     "iopub.status.idle": "2024-05-03T17:00:08.497923Z",
     "shell.execute_reply": "2024-05-03T17:00:08.497610Z",
     "shell.execute_reply.started": "2024-05-03T17:00:08.494207Z"
    }
   },
   "outputs": [],
   "source": [
    "#map_.renderMap()"
   ]
  },
  {
   "cell_type": "code",
   "execution_count": 13,
   "id": "cabbf8b0-d962-40ba-9ad2-bcc3ad177e67",
   "metadata": {
    "execution": {
     "iopub.execute_input": "2024-05-03T17:00:08.498638Z",
     "iopub.status.busy": "2024-05-03T17:00:08.498434Z",
     "iopub.status.idle": "2024-05-03T17:00:08.503103Z",
     "shell.execute_reply": "2024-05-03T17:00:08.502755Z",
     "shell.execute_reply.started": "2024-05-03T17:00:08.498623Z"
    }
   },
   "outputs": [
    {
     "data": {
      "text/plain": [
       "'\\nfrom tqdm import tqdm\\nfor episode in tqdm(range(5), position=0, leave=True):\\n    print(episode)\\n'"
      ]
     },
     "execution_count": 13,
     "metadata": {},
     "output_type": "execute_result"
    }
   ],
   "source": [
    "'''\n",
    "from tqdm import tqdm\n",
    "for episode in tqdm(range(5), position=0, leave=True):\n",
    "    print(episode)\n",
    "'''"
   ]
  },
  {
   "cell_type": "code",
   "execution_count": 14,
   "id": "93a0aaa3-6bbe-400d-9120-df18baa54d60",
   "metadata": {
    "execution": {
     "iopub.execute_input": "2024-05-03T17:00:08.503685Z",
     "iopub.status.busy": "2024-05-03T17:00:08.503562Z",
     "iopub.status.idle": "2024-05-03T17:00:08.507148Z",
     "shell.execute_reply": "2024-05-03T17:00:08.506879Z",
     "shell.execute_reply.started": "2024-05-03T17:00:08.503674Z"
    }
   },
   "outputs": [],
   "source": [
    "def train(foldername,graphics=False):\n",
    "\n",
    "    step_cnt = 0\n",
    "    old_packets = 0\n",
    "\n",
    "    for episode in range(tot_episodes):\n",
    "\n",
    "        # if graphics:\n",
    "            # print(\"Episode Number : \", episode)\n",
    "        tot_packets = 0\n",
    "        map_.resetAll()\n",
    "        if step_cnt % update_frequency == 0 and step_cnt!=0:\n",
    "            for agent in map_.Agents:                    # update the target net after update_frequency steps\n",
    "                agent.dqn_object.updateTargetNet()\n",
    "\n",
    "        #print('ep_begin')\n",
    "        tot_packets = 0\n",
    "        for step in tqdm(range(tot_time), position=0, leave=True):\n",
    "        # for step in range(tot_time):\n",
    "\n",
    "            if ((step%gap_time==0) and (step < generate_packets_till)):\n",
    "                for node in map_.IotNodes:\n",
    "                    tot_packets += node.rate\n",
    "                    node.run()\n",
    "\n",
    "                for agent in map_.Agents:\n",
    "                    agent.update_state()\n",
    "\n",
    "            ##TODO agent order affects current state reason : agent x->y and y->z can transmit same packet in single timestamp(if order is x,y,z)\n",
    "            for agent in map_.Agents:\n",
    "                agent.update_state()\n",
    "                \n",
    "            for agent in map_.Agents:\n",
    "                agent.run()\n",
    "\n",
    "            # if graphics and ((step % 100 == 0) or (step == tot_time - 1)):\n",
    "            #     #print(\"Map Rendering\")\n",
    "            #     #print('ep_num', episode)\n",
    "            #     #print('step', step)\n",
    "\n",
    "            #     #print('Packets received', BaseStation_obj.getVal())\n",
    "            #     #print('total packets sent', tot_packets)\n",
    "            #     # if (episode == tot_episodes - 1):\n",
    "            #     #     map_.renderMap()\n",
    "\n",
    "\n",
    "        step_cnt += 1\n",
    "        # print(\"Episode Num : \", episode)\n",
    "        for agent in map_.Agents:\n",
    "            agent.dqn_object.updateEpsilon()\n",
    "            agent.saveLoss()\n",
    "            # print(\"Loss :\", agent.latest_loss)\n",
    "\n",
    "        for agent in map_.Agents:\n",
    "            agent.dqn_object.saveModel('./{}/agent_at_{}'.format(foldername,agent.getPosition()))\n",
    "\n",
    "        # print(\"Episode Number:\",episode,\"Packet reached:\",BaseStation_obj.packetRecv)\n",
    "        # print(\"Packet reached:\",BaseStation_obj.packetRecv)\n",
    "        # map_.resetAll()             # make queues empty for agents, Recv Packets for BS = 0\n",
    "\n",
    "        # Evaluation\n",
    "        # _1, num_packets_received, _2,  _3, _4 = eval(1)\n",
    "        # eval_packets = num_packets_received[0]\n",
    "\n",
    "        # #print('eval_packets is: ', eval_packets)\n",
    "        \n",
    "        # if eval_packets > old_packets:\n",
    "        #     old_packets = eval_packets\n",
    "        #     #print(\"Hello\")\n",
    "        #     for agent in map_.Agents:\n",
    "        #         agent.dqn_object.saveModel('./{}/agent_at_{}'.format(foldername,agent.getPosition()))\n",
    "\n",
    "    return"
   ]
  },
  {
   "cell_type": "markdown",
   "id": "f2777b1a-a172-489d-bf7b-7ff488c09665",
   "metadata": {},
   "source": [
    "first reset the map and BaseStation and set epsilon = 0 for all agents (pure greedy)\n",
    "\n",
    "initialize\n",
    "    - step count = 0, measures the number of time IotNodes generated packets.\n",
    "    - number of packets = empty list\n",
    "    - total_ttl = empty list\n",
    "    - time - empty list\n",
    "    - t = 0, measures time steps.\n",
    "loop till all the IotNodes and UAV have sent dropped or expired the packets.\n",
    "    - at each interval of time steps, \n",
    "        - update step count\n",
    "        - if step_count is less than the number of times packets should be generated\n",
    "        - generate packets in each of the IotNodes\n",
    "    - run each agent\n",
    "    - update each agent\n",
    "    - render the map is selected.\n",
    "    - store the packets received by the base station in num_packets\n",
    "    - store the total_ttl received by the base station in total_ttl\n",
    "    - append t in time list\n",
    "    - increase t\n",
    "    - end=True\n",
    "    - if any IotNode or agent is having a packet then end=False\n",
    "    - if end==True break the loop\n",
    "plot the number of packets and total_ttl wrt time, and save the plots"
   ]
  },
  {
   "cell_type": "code",
   "execution_count": 15,
   "id": "9279a814-18fc-49d0-a05b-ef90bd65e843",
   "metadata": {
    "execution": {
     "iopub.execute_input": "2024-05-03T17:00:08.507687Z",
     "iopub.status.busy": "2024-05-03T17:00:08.507561Z",
     "iopub.status.idle": "2024-05-03T17:00:08.514227Z",
     "shell.execute_reply": "2024-05-03T17:00:08.513832Z",
     "shell.execute_reply.started": "2024-05-03T17:00:08.507677Z"
    }
   },
   "outputs": [],
   "source": [
    "# def test(folder_name,render=True):\n",
    "#     \"\"\"\n",
    "#     Function to test the agent\n",
    "\n",
    "#     Parameters\n",
    "#     ---\n",
    "#     render: bool\n",
    "#         Whether to create a pop-up window display the interaction of the agent with the environment\n",
    "\n",
    "#     Returns\n",
    "#     ---\n",
    "#     none\n",
    "\n",
    "#     idea: generate packets at iot till some time step\n",
    "#     stop the simulation only when each packet is either dropped or reaches the base station\n",
    "#     metrics: average ttl over all the packets? (indicates both latency and throughout in some sense)\n",
    "\n",
    "#     #TODO can also calculate latency only on packets that reached the base station and throughput overall\n",
    "#     \"\"\"\n",
    "\n",
    "#     # reset all agents\n",
    "#     map_.resetAll()\n",
    "#     BaseStation_obj.reset()\n",
    "#     # no need to load model here as train was previously called. so last updated modellen(my_list) is the model to be used\n",
    "\n",
    "#     # turn off exploration for agents now\n",
    "#     for agent in Agents:\n",
    "#             agent.dqn_object.turn_off_exploration()\n",
    "\n",
    "#     step_cnt = 0\n",
    "#     num_packets=[]\n",
    "#     total_ttl=[]\n",
    "#     time=[]\n",
    "#     t=0\n",
    "#     while True:\n",
    "\n",
    "#         if(t%gap_time==0):\n",
    "#             step_cnt += 1\n",
    "#             if step_cnt <= generate_packets_till:\n",
    "#                 for node in IotNodes:\n",
    "#                     node.run()\n",
    "\n",
    "#         for agent in Agents:\n",
    "#             agent.run(False)\n",
    "\n",
    "#         for agent in Agents:\n",
    "#             agent.update_state()\n",
    "\n",
    "#         if render :\n",
    "#             map_.renderMap()\n",
    "\n",
    "#         # check if all iot and uavs have sent out all packets\n",
    "#         num_packets.append(BaseStation_obj.packetRecv)\n",
    "#         total_ttl.append(BaseStation_obj.totalTtl)\n",
    "#         time.append(t)\n",
    "#         t+=1\n",
    "#         end = True\n",
    "#         for agent in Agents:\n",
    "#             if agent.getVal() != 0:\n",
    "#                 end = False\n",
    "#                 break\n",
    "\n",
    "#         for iot in IotNodes:\n",
    "#             if iot.getQueueSize() !=0:\n",
    "#                 end = False\n",
    "#                 break\n",
    "\n",
    "#         if end:\n",
    "#             break\n",
    "#     os.makedirs(\"{}/Plots\".format(folder_name), exist_ok=True)\n",
    "#     plt.plot(time,num_packets , color ='blue', label ='Packets Received')\n",
    "#     plt.savefig('{}/Plots/Packet_Received.png'.format(folder_name))\n",
    "#     plt.close()\n",
    "\n",
    "#     plt.plot(time,total_ttl , color ='blue', label ='Sum of TTL')\n",
    "#     plt.savefig('{}/Plots/SumOfTtl.png'.format(folder_name))\n",
    "#     plt.close()"
   ]
  },
  {
   "cell_type": "code",
   "execution_count": null,
   "id": "a7d22668-ae96-420f-a092-f3afa6ca1177",
   "metadata": {},
   "outputs": [],
   "source": []
  },
  {
   "cell_type": "code",
   "execution_count": 16,
   "id": "8935e2ea-a6f7-4396-963d-2ed971d5cc50",
   "metadata": {
    "execution": {
     "iopub.execute_input": "2024-05-03T17:00:08.514795Z",
     "iopub.status.busy": "2024-05-03T17:00:08.514676Z",
     "iopub.status.idle": "2024-05-03T17:00:08.519573Z",
     "shell.execute_reply": "2024-05-03T17:00:08.519064Z",
     "shell.execute_reply.started": "2024-05-03T17:00:08.514785Z"
    }
   },
   "outputs": [],
   "source": [
    "def eval(num_eval_episodes):\n",
    "    # reset all agents\n",
    "    map_.resetAll()\n",
    "    BaseStation_obj.reset()\n",
    "    # no need to load model here as train was previously called. so last updated modellen(my_list) is the model to be used\n",
    "\n",
    "    # turn off exploration for agents now\n",
    "    # for agent in map_.Agents:\n",
    "    #         agent.dqn_object.turn_off_exploration()\n",
    "\n",
    "    rewards_eval = np.zeros(num_eval_episodes)\n",
    "    num_packets_received = np.zeros(num_eval_episodes)\n",
    "    tot_packets_sent = np.zeros(num_eval_episodes)\n",
    "    mean_ttl_received = np.zeros(num_eval_episodes)\n",
    "    rec_rate = []\n",
    "\n",
    "    #gap_time = gap_time\n",
    "    episode_duration = tot_time #2000 #200\n",
    "    create_packets_till = generate_packets_till #400\n",
    "\n",
    "    for ep in range(num_eval_episodes):\n",
    "        torch.cuda.empty_cache()\n",
    "        map_.initModels(device)\n",
    "        map_.loadModel(\"{}/model_parameters\".format(folder_name))\n",
    "        #print('episode', ep)\n",
    "        map_.resetAll()\n",
    "        BaseStation_obj.reset()\n",
    "        \n",
    "        rewardAddEval = 0\n",
    "        tot_packets = 0\n",
    "\n",
    "        old_packets_rec = 0\n",
    "        old_packets_in_network = 0\n",
    "        rate_per_100_steps = {}\n",
    "        \n",
    "        #for step in range(episode_duration):\n",
    "        for step in tqdm(range(episode_duration), position=0, leave=True):\n",
    "            if ((step % gap_time==0) and (step < create_packets_till)) :\n",
    "                for node in map_.IotNodes:\n",
    "                    tot_packets += node.rate\n",
    "                    node.run()\n",
    "                    \n",
    "                for agent in map_.Agents:\n",
    "                    agent.update_state()\n",
    "    \n",
    "            for agent in map_.Agents:\n",
    "                rewardAddEval += agent.run()\n",
    "    \n",
    "            for agent in map_.Agents:\n",
    "                agent.update_state()\n",
    "\n",
    "            if (step % 100 == 0) or (step == episode_duration - 1):\n",
    "                new_packets_rec = BaseStation_obj.getVal()\n",
    "                \n",
    "                total_packets_received_100_hops = new_packets_rec - old_packets_rec\n",
    "                total_packets_rec_per_hop = total_packets_received_100_hops/100\n",
    "\n",
    "                receiving_rate_info = {}\n",
    "                receiving_rate_info['total_packets_rec_per_hop'] = total_packets_rec_per_hop\n",
    "                receiving_rate_info['old_packets_in_network'] = old_packets_in_network\n",
    "                rate_per_100_steps[step] = receiving_rate_info\n",
    "                \n",
    "                old_packets_in_network = tot_packets - BaseStation_obj.getVal()\n",
    "                old_packets_rec = new_packets_rec\n",
    "\n",
    "            \n",
    "        rewards_eval[ep] = rewardAddEval\n",
    "        num_packets_received[ep] = BaseStation_obj.getVal()\n",
    "        tot_packets_sent[ep] = tot_packets\n",
    "        mean_ttl_received[ep] = meanTtl()\n",
    "        rec_rate.append(rate_per_100_steps)\n",
    "            \n",
    "    evalMeanReward = np.mean(rewards_eval)\n",
    "    return evalMeanReward, num_packets_received, tot_packets_sent, mean_ttl_received, rec_rate"
   ]
  },
  {
   "cell_type": "markdown",
   "id": "519b1a39-d916-4610-9db9-67b93d6908ac",
   "metadata": {},
   "source": [
    "meanTtl\n",
    "calculate the mean_ttl of all the packets received by the BaseStation and return it"
   ]
  },
  {
   "cell_type": "code",
   "execution_count": 17,
   "id": "68e723be-90f2-44f8-b1d3-6f6663103d03",
   "metadata": {
    "execution": {
     "iopub.execute_input": "2024-05-03T17:00:08.520120Z",
     "iopub.status.busy": "2024-05-03T17:00:08.519993Z",
     "iopub.status.idle": "2024-05-03T17:00:08.523843Z",
     "shell.execute_reply": "2024-05-03T17:00:08.523481Z",
     "shell.execute_reply.started": "2024-05-03T17:00:08.520111Z"
    }
   },
   "outputs": [],
   "source": [
    "def meanTtl():\n",
    "    packets = map_.getBaseStation().packets_received\n",
    "    if len(packets)==0:\n",
    "        return -1\n",
    "    return sum([packet.get_ttl() for packet in packets])/len(packets)"
   ]
  },
  {
   "cell_type": "markdown",
   "id": "0e372daa-3bdb-4726-aaba-2e06bc851c45",
   "metadata": {},
   "source": [
    "generatePlot\n",
    "- for each agent\n",
    "    - obtain the list of losses, happens each time run function is chosen which invokes train\n",
    "    - plot the loss againt time and save the plot. "
   ]
  },
  {
   "cell_type": "code",
   "execution_count": 18,
   "id": "6752a0b4-c1f4-4dde-b5cf-b60a8419120d",
   "metadata": {
    "execution": {
     "iopub.execute_input": "2024-05-03T17:00:08.524378Z",
     "iopub.status.busy": "2024-05-03T17:00:08.524261Z",
     "iopub.status.idle": "2024-05-03T17:00:08.527401Z",
     "shell.execute_reply": "2024-05-03T17:00:08.527061Z",
     "shell.execute_reply.started": "2024-05-03T17:00:08.524368Z"
    }
   },
   "outputs": [],
   "source": [
    "def generatePlot(folder_name):\n",
    "    os.makedirs(\"{}/Plots\".format(folder_name), exist_ok=True)\n",
    "    for agent in Agents:\n",
    "        loss = agent.getLoss()\n",
    "        epi_list = list(range(1,len(loss)+1))\n",
    "        plt.plot(epi_list, loss, color ='orange', label ='Agent Loss')\n",
    "        plt.savefig('{}/Plots/agent_at_{}.png'.format(folder_name,agent.getPosition()))\n",
    "        plt.close()"
   ]
  },
  {
   "cell_type": "markdown",
   "id": "c3af4982-6915-48d4-ac81-80242927884c",
   "metadata": {},
   "source": [
    "initialize the DQNAgent for each agent.\n",
    "if Train is chosen\n",
    "    fill the memory and tain\n",
    "then test the model\n",
    "generate the plots."
   ]
  },
  {
   "cell_type": "code",
   "execution_count": 19,
   "id": "0bd65f61-d3fb-4ab1-8693-7223527b6284",
   "metadata": {
    "execution": {
     "iopub.execute_input": "2024-05-03T17:00:08.528552Z",
     "iopub.status.busy": "2024-05-03T17:00:08.528361Z",
     "iopub.status.idle": "2024-05-03T17:06:06.121027Z",
     "shell.execute_reply": "2024-05-03T17:06:06.120717Z",
     "shell.execute_reply.started": "2024-05-03T17:00:08.528539Z"
    }
   },
   "outputs": [
    {
     "name": "stderr",
     "output_type": "stream",
     "text": [
      "100%|███████████████████████████████████████| 2000/2000 [05:55<00:00,  5.63it/s]\n"
     ]
    },
    {
     "name": "stdout",
     "output_type": "stream",
     "text": [
      "Time:  355.26390269699914\n"
     ]
    }
   ],
   "source": [
    "os.makedirs(\"{}/model_parameters\".format(folder_name), exist_ok=True)\n",
    "map_.initModels(device)\n",
    "fillMemory()\n",
    "\n",
    "start = timeit.default_timer()\n",
    "  \n",
    "train(\"results_10x10_Stationary_Map_2/model_parameters\",True)\n",
    "\n",
    "stop = timeit.default_timer()\n",
    "\n",
    "print('Time: ', stop - start)\n",
    "\n",
    "with open(\"train_time_stationary_Map_2_MAPR.txt\",\"w\") as file:\n",
    "    file.write(\"Train Time: \" + str(stop - start))"
   ]
  },
  {
   "cell_type": "code",
   "execution_count": 20,
   "id": "a67b9b72-ac9f-49f5-bb45-9be5b6dc3d0b",
   "metadata": {
    "execution": {
     "iopub.execute_input": "2024-05-03T17:06:06.121629Z",
     "iopub.status.busy": "2024-05-03T17:06:06.121421Z",
     "iopub.status.idle": "2024-05-03T17:06:06.123824Z",
     "shell.execute_reply": "2024-05-03T17:06:06.123426Z",
     "shell.execute_reply.started": "2024-05-03T17:06:06.121618Z"
    }
   },
   "outputs": [],
   "source": [
    "# if configur.get('train_model','train') == 'True':\n",
    "#     fillMemory()\n",
    "#     train(\"{}/model_parameters\".format(folder_name),False)\n",
    "# #generatePlot(folder_name)\n",
    "\n",
    "# #print('Mean ttl of all packets received by base station: ',meanTtl())"
   ]
  },
  {
   "cell_type": "code",
   "execution_count": 21,
   "id": "024b56c4-912f-483d-97e8-126cff469d6f",
   "metadata": {
    "execution": {
     "iopub.execute_input": "2024-05-03T17:06:06.124324Z",
     "iopub.status.busy": "2024-05-03T17:06:06.124190Z",
     "iopub.status.idle": "2024-05-03T17:06:06.129907Z",
     "shell.execute_reply": "2024-05-03T17:06:06.129583Z",
     "shell.execute_reply.started": "2024-05-03T17:06:06.124314Z"
    }
   },
   "outputs": [],
   "source": [
    "seed = 0\n",
    "\n",
    "random.seed(seed)\n",
    "torch.manual_seed(seed)\n",
    "torch.cuda.manual_seed(seed)\n",
    "np.random.seed(seed)\n",
    "torch.cuda.manual_seed_all(seed)\n",
    "os.environ['PYTHONHASHSEED'] = str(seed)\n",
    "os.environ[\"CUBLAS_WORKSPACE_CONFIG\"]=\":4096:8\"\n",
    "\n",
    "torch.backends.cudnn.deterministic = True\n",
    "torch.backends.cudnn.benchmark = False\n",
    "torch.use_deterministic_algorithms(True)"
   ]
  },
  {
   "cell_type": "code",
   "execution_count": 22,
   "id": "88d5d571-3fa4-4347-b50d-aa789823b0f0",
   "metadata": {
    "execution": {
     "iopub.execute_input": "2024-05-03T17:06:06.130537Z",
     "iopub.status.busy": "2024-05-03T17:06:06.130385Z",
     "iopub.status.idle": "2024-05-03T17:48:47.428715Z",
     "shell.execute_reply": "2024-05-03T17:48:47.428334Z",
     "shell.execute_reply.started": "2024-05-03T17:06:06.130524Z"
    }
   },
   "outputs": [
    {
     "name": "stderr",
     "output_type": "stream",
     "text": [
      "100%|███████████████████████████████████████| 2000/2000 [04:36<00:00,  7.23it/s]\n",
      "100%|███████████████████████████████████████| 2000/2000 [04:13<00:00,  7.87it/s]\n",
      "100%|███████████████████████████████████████| 2000/2000 [04:10<00:00,  8.00it/s]\n",
      "100%|███████████████████████████████████████| 2000/2000 [04:13<00:00,  7.90it/s]\n",
      "100%|███████████████████████████████████████| 2000/2000 [04:14<00:00,  7.87it/s]\n",
      "100%|███████████████████████████████████████| 2000/2000 [04:13<00:00,  7.87it/s]\n",
      "100%|███████████████████████████████████████| 2000/2000 [04:16<00:00,  7.80it/s]\n",
      "100%|███████████████████████████████████████| 2000/2000 [04:13<00:00,  7.90it/s]\n",
      "100%|███████████████████████████████████████| 2000/2000 [04:12<00:00,  7.92it/s]\n",
      "100%|███████████████████████████████████████| 2000/2000 [04:13<00:00,  7.90it/s]"
     ]
    },
    {
     "name": "stdout",
     "output_type": "stream",
     "text": [
      "Finish\n"
     ]
    },
    {
     "name": "stderr",
     "output_type": "stream",
     "text": [
      "\n"
     ]
    },
    {
     "data": {
      "text/plain": [
       "<pygame.mixer.Channel at 0x731991b06cf0>"
      ]
     },
     "execution_count": 22,
     "metadata": {},
     "output_type": "execute_result"
    }
   ],
   "source": [
    "# map_.initModels(device)\n",
    "# map_.loadModel(\"{}/model_parameters\".format(folder_name))\n",
    "evalMeanReward, num_packets_received, tot_packets_sent, mean_ttl_received, rec_rate = eval(10)\n",
    "\n",
    "print(\"Finish\")\n",
    "sound.play(maxtime=5000)"
   ]
  },
  {
   "cell_type": "code",
   "execution_count": null,
   "id": "31973d24-268c-4273-894b-4279ef1fc3d3",
   "metadata": {},
   "outputs": [],
   "source": []
  },
  {
   "cell_type": "code",
   "execution_count": null,
   "id": "03165c9f-53fd-47e9-8c1b-43c0f8f7ba50",
   "metadata": {},
   "outputs": [],
   "source": []
  },
  {
   "cell_type": "code",
   "execution_count": 23,
   "id": "4b117313-3d43-4737-9885-3dd1d744873d",
   "metadata": {
    "execution": {
     "iopub.execute_input": "2024-05-03T17:48:47.429691Z",
     "iopub.status.busy": "2024-05-03T17:48:47.429429Z",
     "iopub.status.idle": "2024-05-03T17:48:47.434331Z",
     "shell.execute_reply": "2024-05-03T17:48:47.433803Z",
     "shell.execute_reply.started": "2024-05-03T17:48:47.429664Z"
    }
   },
   "outputs": [
    {
     "name": "stdout",
     "output_type": "stream",
     "text": [
      "525667.7603668608\n",
      "[545. 545. 545. 545. 545. 545. 545. 545. 545. 545.]\n",
      "[4000. 4000. 4000. 4000. 4000. 4000. 4000. 4000. 4000. 4000.]\n",
      "[743.43486239 743.43486239 743.43486239 743.43486239 743.43486239\n",
      " 743.43486239 743.43486239 743.43486239 743.43486239 743.43486239]\n",
      "545.0\n",
      "743.4348623853211\n"
     ]
    }
   ],
   "source": [
    "print(evalMeanReward)\n",
    "print(num_packets_received)\n",
    "print(tot_packets_sent)\n",
    "print(mean_ttl_received)\n",
    "print(np.mean(num_packets_received))\n",
    "print(np.mean(mean_ttl_received))"
   ]
  },
  {
   "cell_type": "code",
   "execution_count": 24,
   "id": "a6d8c31b-e692-4c58-a515-2b64b5f2d317",
   "metadata": {
    "execution": {
     "iopub.execute_input": "2024-05-03T17:48:47.435231Z",
     "iopub.status.busy": "2024-05-03T17:48:47.435022Z",
     "iopub.status.idle": "2024-05-03T17:48:47.440230Z",
     "shell.execute_reply": "2024-05-03T17:48:47.439790Z",
     "shell.execute_reply.started": "2024-05-03T17:48:47.435213Z"
    }
   },
   "outputs": [],
   "source": [
    "with open('MAPR_4000_Map_2_stationary_performance_num_packets_received.pkl', 'wb') as file:\n",
    "    pickle.dump(num_packets_received, file)\n",
    "with open('MAPR_4000_Map_2_stationary_performance_tot_packets_sent.pkl', 'wb') as file:\n",
    "    pickle.dump(tot_packets_sent, file)\n",
    "with open('MAPR_4000_Map_2_stationary_performance_mean_ttl_received.pkl', 'wb') as file:\n",
    "    pickle.dump(mean_ttl_received, file)\n",
    "with open('MAPR_4000_Map_2_stationary_performance_rec_rate.pkl', 'wb') as file:\n",
    "    pickle.dump(rec_rate, file)\n"
   ]
  },
  {
   "cell_type": "code",
   "execution_count": null,
   "id": "b677611a-c28c-4491-a120-7cccf14afc99",
   "metadata": {},
   "outputs": [],
   "source": []
  },
  {
   "cell_type": "code",
   "execution_count": 25,
   "id": "a20f6e42-a5f3-47b9-a0c2-0e03e0855726",
   "metadata": {
    "execution": {
     "iopub.execute_input": "2024-05-03T17:48:47.440970Z",
     "iopub.status.busy": "2024-05-03T17:48:47.440692Z",
     "iopub.status.idle": "2024-05-03T17:48:47.446435Z",
     "shell.execute_reply": "2024-05-03T17:48:47.445958Z",
     "shell.execute_reply.started": "2024-05-03T17:48:47.440950Z"
    }
   },
   "outputs": [],
   "source": [
    "# file = open('MAPR_4000_Map_2_stationary_performance.txt', 'w')\n",
    "\n",
    "# file.write('\\n num_packets_received \\n')\n",
    "# file.write(json.dumps(list(num_packets_received)))\n",
    "\n",
    "# file.write('\\n tot_packets_sent \\n')\n",
    "# file.write(json.dumps(list(tot_packets_sent)))\n",
    "\n",
    "# file.write('\\n mean_ttl_received \\n')\n",
    "# file.write(json.dumps(list(mean_ttl_received)))\n",
    "\n",
    "# file.write('\\n average num_packets_received \\n')\n",
    "# file.write(json.dumps(np.mean(num_packets_received)))\n",
    "\n",
    "# file.write('\\n average mean_ttl_received \\n')\n",
    "# file.write(json.dumps(np.mean(mean_ttl_received)))\n",
    "\n",
    "# file.close()"
   ]
  },
  {
   "cell_type": "code",
   "execution_count": null,
   "id": "35d9a218-a679-4a72-af2b-3e343f21a4ea",
   "metadata": {},
   "outputs": [],
   "source": []
  },
  {
   "cell_type": "code",
   "execution_count": null,
   "id": "87948baf-0752-4286-ac17-ac8f1913b06c",
   "metadata": {},
   "outputs": [],
   "source": []
  },
  {
   "cell_type": "code",
   "execution_count": null,
   "id": "ce0f460f-dee7-408f-a3a3-6348e7db5162",
   "metadata": {},
   "outputs": [],
   "source": []
  },
  {
   "cell_type": "code",
   "execution_count": null,
   "id": "4c46193c-acff-4fbe-bbdc-83847138eb29",
   "metadata": {},
   "outputs": [],
   "source": []
  }
 ],
 "metadata": {
  "kernelspec": {
   "display_name": "Python 3 (ipykernel)",
   "language": "python",
   "name": "python3"
  },
  "language_info": {
   "codemirror_mode": {
    "name": "ipython",
    "version": 3
   },
   "file_extension": ".py",
   "mimetype": "text/x-python",
   "name": "python",
   "nbconvert_exporter": "python",
   "pygments_lexer": "ipython3",
   "version": "3.12.2"
  }
 },
 "nbformat": 4,
 "nbformat_minor": 5
}
