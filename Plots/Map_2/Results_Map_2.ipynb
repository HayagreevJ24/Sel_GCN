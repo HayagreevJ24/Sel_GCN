{
 "cells": [
  {
   "cell_type": "code",
   "execution_count": 1,
   "id": "3551d753-675b-4849-b672-dc72b2af54d1",
   "metadata": {
    "execution": {
     "iopub.execute_input": "2024-06-02T06:10:56.534752Z",
     "iopub.status.busy": "2024-06-02T06:10:56.534197Z",
     "iopub.status.idle": "2024-06-02T06:10:56.816185Z",
     "shell.execute_reply": "2024-06-02T06:10:56.815805Z",
     "shell.execute_reply.started": "2024-06-02T06:10:56.534688Z"
    }
   },
   "outputs": [],
   "source": [
    "import numpy as np\n",
    "import matplotlib.pyplot as plt\n",
    "import pickle"
   ]
  },
  {
   "cell_type": "markdown",
   "id": "edfed9a7-85c4-45ac-a3a8-227a68e270de",
   "metadata": {},
   "source": [
    "# Data"
   ]
  },
  {
   "cell_type": "code",
   "execution_count": 2,
   "id": "201c3958-62ae-4381-871b-bef8fd08b5a4",
   "metadata": {
    "execution": {
     "iopub.execute_input": "2024-06-02T06:10:57.386744Z",
     "iopub.status.busy": "2024-06-02T06:10:57.385701Z",
     "iopub.status.idle": "2024-06-02T06:10:57.389130Z",
     "shell.execute_reply": "2024-06-02T06:10:57.388749Z",
     "shell.execute_reply.started": "2024-06-02T06:10:57.386725Z"
    }
   },
   "outputs": [],
   "source": [
    "tot_num_packets = 4000\n",
    "def_ttl = 1000\n",
    "Map_ID = 2"
   ]
  },
  {
   "cell_type": "markdown",
   "id": "6f565220-890c-4e8a-bcf6-431af390ad5a",
   "metadata": {},
   "source": [
    "## RL - MAPR Performance"
   ]
  },
  {
   "cell_type": "code",
   "execution_count": 3,
   "id": "a57d3b8a-4996-470e-baba-61d955dd612b",
   "metadata": {
    "execution": {
     "iopub.execute_input": "2024-06-02T06:10:57.937950Z",
     "iopub.status.busy": "2024-06-02T06:10:57.937156Z",
     "iopub.status.idle": "2024-06-02T06:10:57.946585Z",
     "shell.execute_reply": "2024-06-02T06:10:57.946262Z",
     "shell.execute_reply.started": "2024-06-02T06:10:57.937892Z"
    }
   },
   "outputs": [],
   "source": [
    "file_ttl = 'MAPR/MAPR_4000_Map_'+str(Map_ID)+'_stationary_performance_mean_ttl_received.pkl'\n",
    "file_received = 'MAPR/MAPR_4000_Map_'+str(Map_ID)+'_stationary_performance_num_packets_received.pkl'\n",
    "file_total = 'MAPR/MAPR_4000_Map_'+str(Map_ID)+'_stationary_performance_tot_packets_sent.pkl'\n",
    "file_rate = 'MAPR/MAPR_4000_Map_'+str(Map_ID)+'_stationary_performance_rec_rate.pkl'\n",
    "\n",
    "with open(file_ttl, 'rb') as file:\n",
    "    MAPR_mean_ttl_received = pickle.load(file)\n",
    "\n",
    "with open(file_received, 'rb') as file:\n",
    "    MAPR_num_packets_received = pickle.load(file)\n",
    "\n",
    "with open(file_total, 'rb') as file:\n",
    "    MAPR_tot_packets_sent = pickle.load(file)\n",
    "    \n",
    "with open(file_rate, 'rb') as file:\n",
    "    MAPR_rec_rate = pickle.load(file)\n",
    "    MAPR_rec_rate_matrix = np.array([[MAPR_rec_rate[i][key]['total_packets_rec_per_hop'] for key in MAPR_rec_rate[i]] for i in range(10)])\n",
    "    MAPR_rec_rate_avg = np.average(MAPR_rec_rate_matrix, axis=0)\n",
    "    MAPR_rec_rate_x_axis = [key for key in MAPR_rec_rate[0]]"
   ]
  },
  {
   "cell_type": "markdown",
   "id": "416dd2b7-63bc-422d-b9ef-87ccd7f9a0ef",
   "metadata": {},
   "source": [
    "## RL+GNN - Attention"
   ]
  },
  {
   "cell_type": "code",
   "execution_count": 6,
   "id": "d6bbcfe1-95b1-4a30-8bd3-f04d9153316d",
   "metadata": {
    "execution": {
     "iopub.execute_input": "2024-06-02T06:10:58.947323Z",
     "iopub.status.busy": "2024-06-02T06:10:58.947127Z",
     "iopub.status.idle": "2024-06-02T06:10:58.950329Z",
     "shell.execute_reply": "2024-06-02T06:10:58.949949Z",
     "shell.execute_reply.started": "2024-06-02T06:10:58.947307Z"
    }
   },
   "outputs": [],
   "source": [
    "mean_ttl_received_k = {}\n",
    "num_packets_received_k = {}\n",
    "tot_packets_sent_k = {}\n",
    "avg_rec_rate_k = {}\n",
    "rec_rate_k_x_axis = MAPR_rec_rate_x_axis"
   ]
  },
  {
   "cell_type": "code",
   "execution_count": 7,
   "id": "ccdb5672-8faa-4fdc-9c65-4c2025861e45",
   "metadata": {
    "execution": {
     "iopub.execute_input": "2024-06-02T06:10:59.205342Z",
     "iopub.status.busy": "2024-06-02T06:10:59.204939Z",
     "iopub.status.idle": "2024-06-02T06:10:59.207606Z",
     "shell.execute_reply": "2024-06-02T06:10:59.207196Z",
     "shell.execute_reply.started": "2024-06-02T06:10:59.205323Z"
    }
   },
   "outputs": [
    {
     "name": "stdout",
     "output_type": "stream",
     "text": [
      "[0, 100, 200, 300, 400, 500, 600, 700, 800, 900, 1000, 1100, 1200, 1300, 1400, 1500, 1600, 1700, 1800, 1900, 1999]\n"
     ]
    }
   ],
   "source": [
    "print(MAPR_rec_rate_x_axis)"
   ]
  },
  {
   "cell_type": "code",
   "execution_count": 8,
   "id": "9c0dd3b7-5a85-4901-b7ed-4f89429ed770",
   "metadata": {
    "execution": {
     "iopub.execute_input": "2024-06-02T06:10:59.428026Z",
     "iopub.status.busy": "2024-06-02T06:10:59.427501Z",
     "iopub.status.idle": "2024-06-02T06:10:59.435026Z",
     "shell.execute_reply": "2024-06-02T06:10:59.434691Z",
     "shell.execute_reply.started": "2024-06-02T06:10:59.428003Z"
    }
   },
   "outputs": [],
   "source": [
    "k = 0\n",
    "\n",
    "file_ttl = 'mean_ttl_received_k_0.pkl'\n",
    "file_received = 'num_packets_received_k_0.pkl'\n",
    "file_total = 'tot_packets_sent_k_0.pkl'\n",
    "file_rec = 'rec_rate_k_0.pkl'\n",
    "\n",
    "with open('results_GNN_10_10_'+str(Map_ID)+'/k_' + str(k) + '/' + file_ttl, 'rb') as file:\n",
    "    mean_ttl_received_k[k] = pickle.load(file)\n",
    "\n",
    "with open('results_GNN_10_10_'+str(Map_ID)+'/k_' + str(k) + '/' + file_received, 'rb') as file:\n",
    "    num_packets_received_k[k] = pickle.load(file)\n",
    "\n",
    "with open('results_GNN_10_10_'+str(Map_ID)+'/k_' + str(k) + '/' + file_total, 'rb') as file:\n",
    "    tot_packets_sent_k[k] = pickle.load(file)\n",
    "\n",
    "with open('results_GNN_10_10_'+str(Map_ID)+'/k_' + str(k) + '/' + file_rec, 'rb') as file:\n",
    "    rec_rate_k = pickle.load(file)\n",
    "    rec_rate_k_matrix = np.array([[rec_rate_k[i][key]['total_packets_rec_per_hop'] for key in rec_rate_k[i]] for i in range(10)])\n",
    "    avg_rec_rate_k[k] = np.average(rec_rate_k_matrix, axis=0)"
   ]
  },
  {
   "cell_type": "code",
   "execution_count": 9,
   "id": "47a7e8a4-c93c-4a55-a83e-a2141626f3b3",
   "metadata": {
    "execution": {
     "iopub.execute_input": "2024-06-02T06:10:59.660143Z",
     "iopub.status.busy": "2024-06-02T06:10:59.659844Z",
     "iopub.status.idle": "2024-06-02T06:10:59.667443Z",
     "shell.execute_reply": "2024-06-02T06:10:59.667024Z",
     "shell.execute_reply.started": "2024-06-02T06:10:59.660129Z"
    }
   },
   "outputs": [],
   "source": [
    "k = 1\n",
    "\n",
    "file_ttl = 'mean_ttl_received_k_1.pkl'\n",
    "file_received = 'num_packets_received_k_1.pkl'\n",
    "file_total = 'tot_packets_sent_k_1.pkl'\n",
    "file_rec = 'rec_rate_k_1.pkl'\n",
    "\n",
    "with open('results_GNN_10_10_'+str(Map_ID)+'/k_' + str(k) + '/' + file_ttl, 'rb') as file:\n",
    "    mean_ttl_received_k[k] = pickle.load(file)\n",
    "\n",
    "with open('results_GNN_10_10_'+str(Map_ID)+'/k_' + str(k) + '/' + file_received, 'rb') as file:\n",
    "    num_packets_received_k[k] = pickle.load(file)\n",
    "\n",
    "with open('results_GNN_10_10_'+str(Map_ID)+'/k_' + str(k) + '/' + file_total, 'rb') as file:\n",
    "    tot_packets_sent_k[k] = pickle.load(file)\n",
    "\n",
    "with open('results_GNN_10_10_'+str(Map_ID)+'/k_' + str(k) + '/' + file_rec, 'rb') as file:\n",
    "    rec_rate_k = pickle.load(file)\n",
    "    rec_rate_k_matrix = np.array([[rec_rate_k[i][key]['total_packets_rec_per_hop'] for key in rec_rate_k[i]] for i in range(10)])\n",
    "    avg_rec_rate_k[k] = np.average(rec_rate_k_matrix, axis=0)"
   ]
  },
  {
   "cell_type": "code",
   "execution_count": 10,
   "id": "50f7e647-f888-4a51-ab37-b4615c788770",
   "metadata": {
    "execution": {
     "iopub.execute_input": "2024-06-02T06:10:59.913842Z",
     "iopub.status.busy": "2024-06-02T06:10:59.913392Z",
     "iopub.status.idle": "2024-06-02T06:10:59.920801Z",
     "shell.execute_reply": "2024-06-02T06:10:59.920290Z",
     "shell.execute_reply.started": "2024-06-02T06:10:59.913825Z"
    }
   },
   "outputs": [],
   "source": [
    "k = 2\n",
    "\n",
    "file_ttl = 'mean_ttl_received_k_2.pkl'\n",
    "file_received = 'num_packets_received_k_2.pkl'\n",
    "file_total = 'tot_packets_sent_k_2.pkl'\n",
    "file_rec = 'rec_rate_k_2.pkl'\n",
    "\n",
    "with open('results_GNN_10_10_'+str(Map_ID)+'/k_' + str(k) + '/' + file_ttl, 'rb') as file:\n",
    "    mean_ttl_received_k[k] = pickle.load(file)\n",
    "\n",
    "with open('results_GNN_10_10_'+str(Map_ID)+'/k_' + str(k) + '/' + file_received, 'rb') as file:\n",
    "    num_packets_received_k[k] = pickle.load(file)\n",
    "\n",
    "with open('results_GNN_10_10_'+str(Map_ID)+'/k_' + str(k) + '/' + file_total, 'rb') as file:\n",
    "    tot_packets_sent_k[k] = pickle.load(file)\n",
    "\n",
    "with open('results_GNN_10_10_'+str(Map_ID)+'/k_' + str(k) + '/' + file_rec, 'rb') as file:\n",
    "    rec_rate_k = pickle.load(file)\n",
    "    rec_rate_k_matrix = np.array([[rec_rate_k[i][key]['total_packets_rec_per_hop'] for key in rec_rate_k[i]] for i in range(10)])\n",
    "    avg_rec_rate_k[k] = np.average(rec_rate_k_matrix, axis=0)"
   ]
  },
  {
   "cell_type": "code",
   "execution_count": 11,
   "id": "3227d80f-fd1d-45fc-bc04-223001ab5a28",
   "metadata": {
    "execution": {
     "iopub.execute_input": "2024-06-02T06:11:00.155358Z",
     "iopub.status.busy": "2024-06-02T06:11:00.155168Z",
     "iopub.status.idle": "2024-06-02T06:11:00.161888Z",
     "shell.execute_reply": "2024-06-02T06:11:00.161568Z",
     "shell.execute_reply.started": "2024-06-02T06:11:00.155343Z"
    }
   },
   "outputs": [],
   "source": [
    "k = 3\n",
    "\n",
    "file_ttl = 'mean_ttl_received_k_3.pkl'\n",
    "file_received = 'num_packets_received_k_3.pkl'\n",
    "file_total = 'tot_packets_sent_k_3.pkl'\n",
    "file_rec = 'rec_rate_k_3.pkl'\n",
    "\n",
    "with open('results_GNN_10_10_'+str(Map_ID)+'/k_' + str(k) + '/' + file_ttl, 'rb') as file:\n",
    "    mean_ttl_received_k[k] = pickle.load(file)\n",
    "\n",
    "with open('results_GNN_10_10_'+str(Map_ID)+'/k_' + str(k) + '/' + file_received, 'rb') as file:\n",
    "    num_packets_received_k[k] = pickle.load(file)\n",
    "\n",
    "with open('results_GNN_10_10_'+str(Map_ID)+'/k_' + str(k) + '/' + file_total, 'rb') as file:\n",
    "    tot_packets_sent_k[k] = pickle.load(file)\n",
    "\n",
    "with open('results_GNN_10_10_'+str(Map_ID)+'/k_' + str(k) + '/' + file_rec, 'rb') as file:\n",
    "    rec_rate_k = pickle.load(file)\n",
    "    rec_rate_k_matrix = np.array([[rec_rate_k[i][key]['total_packets_rec_per_hop'] for key in rec_rate_k[i]] for i in range(10)])\n",
    "    avg_rec_rate_k[k] = np.average(rec_rate_k_matrix, axis=0)"
   ]
  },
  {
   "cell_type": "code",
   "execution_count": 12,
   "id": "b65dd1c4-b47a-4ca0-b11f-f7f5dc361a5d",
   "metadata": {
    "execution": {
     "iopub.execute_input": "2024-06-02T06:11:00.398217Z",
     "iopub.status.busy": "2024-06-02T06:11:00.397581Z",
     "iopub.status.idle": "2024-06-02T06:11:00.405663Z",
     "shell.execute_reply": "2024-06-02T06:11:00.405315Z",
     "shell.execute_reply.started": "2024-06-02T06:11:00.398190Z"
    }
   },
   "outputs": [],
   "source": [
    "k = 4\n",
    "\n",
    "file_ttl = 'mean_ttl_received_k_4.pkl'\n",
    "file_received = 'num_packets_received_k_4.pkl'\n",
    "file_total = 'tot_packets_sent_k_4.pkl'\n",
    "file_rec = 'rec_rate_k_4.pkl'\n",
    "\n",
    "with open('results_GNN_10_10_'+str(Map_ID)+'/k_' + str(k) + '/' + file_ttl, 'rb') as file:\n",
    "    mean_ttl_received_k[k] = pickle.load(file)\n",
    "\n",
    "with open('results_GNN_10_10_'+str(Map_ID)+'/k_' + str(k) + '/' + file_received, 'rb') as file:\n",
    "    num_packets_received_k[k] = pickle.load(file)\n",
    "\n",
    "with open('results_GNN_10_10_'+str(Map_ID)+'/k_' + str(k) + '/' + file_total, 'rb') as file:\n",
    "    tot_packets_sent_k[k] = pickle.load(file)\n",
    "\n",
    "with open('results_GNN_10_10_'+str(Map_ID)+'/k_' + str(k) + '/' + file_rec, 'rb') as file:\n",
    "    rec_rate_k = pickle.load(file)\n",
    "    rec_rate_k_matrix = np.array([[rec_rate_k[i][key]['total_packets_rec_per_hop'] for key in rec_rate_k[i]] for i in range(10)])\n",
    "    avg_rec_rate_k[k] = np.average(rec_rate_k_matrix, axis=0)"
   ]
  },
  {
   "cell_type": "code",
   "execution_count": 13,
   "id": "bc8128b6-682e-434c-aac7-41620a9059bb",
   "metadata": {
    "execution": {
     "iopub.execute_input": "2024-06-02T06:11:00.679949Z",
     "iopub.status.busy": "2024-06-02T06:11:00.679703Z",
     "iopub.status.idle": "2024-06-02T06:11:00.688106Z",
     "shell.execute_reply": "2024-06-02T06:11:00.687478Z",
     "shell.execute_reply.started": "2024-06-02T06:11:00.679928Z"
    }
   },
   "outputs": [],
   "source": [
    "k = 5\n",
    "\n",
    "file_ttl = 'mean_ttl_received_k_5.pkl'\n",
    "file_received = 'num_packets_received_k_5.pkl'\n",
    "file_total = 'tot_packets_sent_k_5.pkl'\n",
    "file_rec = 'rec_rate_k_5.pkl'\n",
    "\n",
    "with open('results_GNN_10_10_'+str(Map_ID)+'/k_' + str(k) + '/' + file_ttl, 'rb') as file:\n",
    "    mean_ttl_received_k[k] = pickle.load(file)\n",
    "\n",
    "with open('results_GNN_10_10_'+str(Map_ID)+'/k_' + str(k) + '/' + file_received, 'rb') as file:\n",
    "    num_packets_received_k[k] = pickle.load(file)\n",
    "\n",
    "with open('results_GNN_10_10_'+str(Map_ID)+'/k_' + str(k) + '/' + file_total, 'rb') as file:\n",
    "    tot_packets_sent_k[k] = pickle.load(file)\n",
    "\n",
    "with open('results_GNN_10_10_'+str(Map_ID)+'/k_' + str(k) + '/' + file_rec, 'rb') as file:\n",
    "    rec_rate_k = pickle.load(file)\n",
    "    rec_rate_k_matrix = np.array([[rec_rate_k[i][key]['total_packets_rec_per_hop'] for key in rec_rate_k[i]] for i in range(10)])\n",
    "    avg_rec_rate_k[k] = np.average(rec_rate_k_matrix, axis=0)"
   ]
  },
  {
   "cell_type": "code",
   "execution_count": 14,
   "id": "dba7db65-cba9-4129-a565-d35d6b5ebff8",
   "metadata": {
    "execution": {
     "iopub.execute_input": "2024-06-02T06:11:00.939484Z",
     "iopub.status.busy": "2024-06-02T06:11:00.939239Z",
     "iopub.status.idle": "2024-06-02T06:11:00.947368Z",
     "shell.execute_reply": "2024-06-02T06:11:00.947043Z",
     "shell.execute_reply.started": "2024-06-02T06:11:00.939460Z"
    }
   },
   "outputs": [],
   "source": [
    "k = 6\n",
    "\n",
    "file_ttl = 'mean_ttl_received_k_6.pkl'\n",
    "file_received = 'num_packets_received_k_6.pkl'\n",
    "file_total = 'tot_packets_sent_k_6.pkl'\n",
    "file_rec = 'rec_rate_k_6.pkl'\n",
    "\n",
    "with open('results_GNN_10_10_'+str(Map_ID)+'/k_' + str(k) + '/' + file_ttl, 'rb') as file:\n",
    "    mean_ttl_received_k[k] = pickle.load(file)\n",
    "\n",
    "with open('results_GNN_10_10_'+str(Map_ID)+'/k_' + str(k) + '/' + file_received, 'rb') as file:\n",
    "    num_packets_received_k[k] = pickle.load(file)\n",
    "\n",
    "with open('results_GNN_10_10_'+str(Map_ID)+'/k_' + str(k) + '/' + file_total, 'rb') as file:\n",
    "    tot_packets_sent_k[k] = pickle.load(file)\n",
    "\n",
    "with open('results_GNN_10_10_'+str(Map_ID)+'/k_' + str(k) + '/' + file_rec, 'rb') as file:\n",
    "    rec_rate_k = pickle.load(file)\n",
    "    rec_rate_k_matrix = np.array([[rec_rate_k[i][key]['total_packets_rec_per_hop'] for key in rec_rate_k[i]] for i in range(10)])\n",
    "    avg_rec_rate_k[k] = np.average(rec_rate_k_matrix, axis=0)"
   ]
  },
  {
   "cell_type": "code",
   "execution_count": 15,
   "id": "257e49f5-7071-4d97-8faa-ceeb024b0dd3",
   "metadata": {
    "execution": {
     "iopub.execute_input": "2024-06-02T06:11:01.177276Z",
     "iopub.status.busy": "2024-06-02T06:11:01.177114Z",
     "iopub.status.idle": "2024-06-02T06:11:01.184044Z",
     "shell.execute_reply": "2024-06-02T06:11:01.183697Z",
     "shell.execute_reply.started": "2024-06-02T06:11:01.177264Z"
    }
   },
   "outputs": [],
   "source": [
    "k = 7\n",
    "\n",
    "file_ttl = 'mean_ttl_received_k_7.pkl'\n",
    "file_received = 'num_packets_received_k_7.pkl'\n",
    "file_total = 'tot_packets_sent_k_7.pkl'\n",
    "file_rec = 'rec_rate_k_7.pkl'\n",
    "\n",
    "with open('results_GNN_10_10_'+str(Map_ID)+'/k_' + str(k) + '/' + file_ttl, 'rb') as file:\n",
    "    mean_ttl_received_k[k] = pickle.load(file)\n",
    "\n",
    "with open('results_GNN_10_10_'+str(Map_ID)+'/k_' + str(k) + '/' + file_received, 'rb') as file:\n",
    "    num_packets_received_k[k] = pickle.load(file)\n",
    "\n",
    "with open('results_GNN_10_10_'+str(Map_ID)+'/k_' + str(k) + '/' + file_total, 'rb') as file:\n",
    "    tot_packets_sent_k[k] = pickle.load(file)\n",
    "\n",
    "with open('results_GNN_10_10_'+str(Map_ID)+'/k_' + str(k) + '/' + file_rec, 'rb') as file:\n",
    "    rec_rate_k = pickle.load(file)\n",
    "    rec_rate_k_matrix = np.array([[rec_rate_k[i][key]['total_packets_rec_per_hop'] for key in rec_rate_k[i]] for i in range(10)])\n",
    "    avg_rec_rate_k[k] = np.average(rec_rate_k_matrix, axis=0)"
   ]
  },
  {
   "cell_type": "code",
   "execution_count": null,
   "id": "f49e04a5-8b3d-4918-bef9-900b5f862698",
   "metadata": {},
   "outputs": [],
   "source": []
  },
  {
   "cell_type": "code",
   "execution_count": null,
   "id": "d4813747-50b7-49d3-a3f0-ee5091c1bb3a",
   "metadata": {},
   "outputs": [],
   "source": []
  },
  {
   "cell_type": "code",
   "execution_count": null,
   "id": "82326d07-fd75-4e3a-8e06-ee1e78caf7ce",
   "metadata": {},
   "outputs": [],
   "source": []
  },
  {
   "cell_type": "code",
   "execution_count": null,
   "id": "0450010d-dcbb-440a-a60d-dc9fc42c1af3",
   "metadata": {},
   "outputs": [],
   "source": []
  },
  {
   "cell_type": "code",
   "execution_count": null,
   "id": "f84cf3d7-acfd-4608-85f5-8ef47033c4d0",
   "metadata": {},
   "outputs": [],
   "source": []
  },
  {
   "cell_type": "code",
   "execution_count": 16,
   "id": "a19d2e5e-bab5-46cf-9818-17504b65ddc4",
   "metadata": {
    "execution": {
     "iopub.execute_input": "2024-06-02T06:11:02.913619Z",
     "iopub.status.busy": "2024-06-02T06:11:02.912649Z",
     "iopub.status.idle": "2024-06-02T06:11:02.916542Z",
     "shell.execute_reply": "2024-06-02T06:11:02.916077Z",
     "shell.execute_reply.started": "2024-06-02T06:11:02.913578Z"
    }
   },
   "outputs": [],
   "source": [
    "average_mean_ttl_received_k = {key: np.mean(mean_ttl_received_k[key]) for key in mean_ttl_received_k}\n",
    "average_num_packets_received_k = {key: np.mean(num_packets_received_k[key]) for key in num_packets_received_k}"
   ]
  },
  {
   "cell_type": "code",
   "execution_count": 17,
   "id": "d4699b27-220a-45bc-8212-7c0e220e30e5",
   "metadata": {
    "execution": {
     "iopub.execute_input": "2024-06-02T06:11:03.452262Z",
     "iopub.status.busy": "2024-06-02T06:11:03.452046Z",
     "iopub.status.idle": "2024-06-02T06:11:03.455860Z",
     "shell.execute_reply": "2024-06-02T06:11:03.455279Z",
     "shell.execute_reply.started": "2024-06-02T06:11:03.452246Z"
    }
   },
   "outputs": [],
   "source": [
    "map_2_info = {'MAPR_mean_ttl_received':MAPR_mean_ttl_received,\n",
    "              'MAPR_num_packets_received': MAPR_num_packets_received,\n",
    "              'MAPR_tot_packets_sent': MAPR_tot_packets_sent,\n",
    "              'MAPR_rec_rate_avg': MAPR_rec_rate_avg,\n",
    "              'MAPR_rec_rate_x_axis': MAPR_rec_rate_x_axis,\n",
    "              'mean_ttl_received_k': mean_ttl_received_k,\n",
    "              'num_packets_received_k': num_packets_received_k,\n",
    "              'tot_packets_sent_k': tot_packets_sent_k,\n",
    "              'avg_rec_rate_k': avg_rec_rate_k,\n",
    "              'rec_rate_k_x_axis': rec_rate_k_x_axis,\n",
    "              'average_mean_ttl_received_k': average_mean_ttl_received_k,\n",
    "              'average_num_packets_received_k': average_num_packets_received_k\n",
    "             }\n",
    "with open('map_2_info.pkl', 'wb') as file:\n",
    "    pickle.dump(map_2_info, file)"
   ]
  },
  {
   "cell_type": "code",
   "execution_count": null,
   "id": "8c67ed4d-4a81-43ba-bdc4-c609964c2ec9",
   "metadata": {},
   "outputs": [],
   "source": []
  },
  {
   "cell_type": "code",
   "execution_count": null,
   "id": "4cf15b9f-6a2a-41fe-9d3d-97303cf4accb",
   "metadata": {},
   "outputs": [],
   "source": []
  },
  {
   "cell_type": "code",
   "execution_count": null,
   "id": "5e0fe21e-c842-466b-9880-46bad28b02ea",
   "metadata": {},
   "outputs": [],
   "source": []
  }
 ],
 "metadata": {
  "kernelspec": {
   "display_name": "Python 3 (ipykernel)",
   "language": "python",
   "name": "python3"
  },
  "language_info": {
   "codemirror_mode": {
    "name": "ipython",
    "version": 3
   },
   "file_extension": ".py",
   "mimetype": "text/x-python",
   "name": "python",
   "nbconvert_exporter": "python",
   "pygments_lexer": "ipython3",
   "version": "3.12.2"
  }
 },
 "nbformat": 4,
 "nbformat_minor": 5
}
