{
 "cells": [
  {
   "cell_type": "code",
   "execution_count": 1,
   "id": "3551d753-675b-4849-b672-dc72b2af54d1",
   "metadata": {
    "execution": {
     "iopub.execute_input": "2024-06-02T06:01:08.121750Z",
     "iopub.status.busy": "2024-06-02T06:01:08.121505Z",
     "iopub.status.idle": "2024-06-02T06:01:08.470308Z",
     "shell.execute_reply": "2024-06-02T06:01:08.469755Z",
     "shell.execute_reply.started": "2024-06-02T06:01:08.121731Z"
    }
   },
   "outputs": [],
   "source": [
    "import numpy as np\n",
    "import matplotlib.pyplot as plt\n",
    "import pickle"
   ]
  },
  {
   "cell_type": "markdown",
   "id": "edfed9a7-85c4-45ac-a3a8-227a68e270de",
   "metadata": {},
   "source": [
    "# Data"
   ]
  },
  {
   "cell_type": "code",
   "execution_count": 2,
   "id": "201c3958-62ae-4381-871b-bef8fd08b5a4",
   "metadata": {
    "execution": {
     "iopub.execute_input": "2024-06-02T06:01:09.270820Z",
     "iopub.status.busy": "2024-06-02T06:01:09.268966Z",
     "iopub.status.idle": "2024-06-02T06:01:09.273921Z",
     "shell.execute_reply": "2024-06-02T06:01:09.273415Z",
     "shell.execute_reply.started": "2024-06-02T06:01:09.270790Z"
    }
   },
   "outputs": [],
   "source": [
    "tot_num_packets = 4000\n",
    "def_ttl = 1000\n",
    "Map_ID = 0"
   ]
  },
  {
   "cell_type": "markdown",
   "id": "6f565220-890c-4e8a-bcf6-431af390ad5a",
   "metadata": {},
   "source": [
    "## RL - MAPR Performance"
   ]
  },
  {
   "cell_type": "code",
   "execution_count": 3,
   "id": "a57d3b8a-4996-470e-baba-61d955dd612b",
   "metadata": {
    "execution": {
     "iopub.execute_input": "2024-06-02T06:01:09.328372Z",
     "iopub.status.busy": "2024-06-02T06:01:09.328124Z",
     "iopub.status.idle": "2024-06-02T06:01:09.333108Z",
     "shell.execute_reply": "2024-06-02T06:01:09.332686Z",
     "shell.execute_reply.started": "2024-06-02T06:01:09.328352Z"
    }
   },
   "outputs": [],
   "source": [
    "file_ttl = 'MAPR/MAPR_4000_Map_'+str(Map_ID)+'_stationary_performance_mean_ttl_received.pkl'\n",
    "file_received = 'MAPR/MAPR_4000_Map_'+str(Map_ID)+'_stationary_performance_num_packets_received.pkl'\n",
    "file_total = 'MAPR/MAPR_4000_Map_'+str(Map_ID)+'_stationary_performance_tot_packets_sent.pkl'\n",
    "file_rate = 'MAPR/MAPR_4000_Map_'+str(Map_ID)+'_stationary_performance_rec_rate.pkl'\n",
    "\n",
    "with open(file_ttl, 'rb') as file:\n",
    "    MAPR_mean_ttl_received = pickle.load(file)\n",
    "\n",
    "with open(file_received, 'rb') as file:\n",
    "    MAPR_num_packets_received = pickle.load(file)\n",
    "\n",
    "with open(file_total, 'rb') as file:\n",
    "    MAPR_tot_packets_sent = pickle.load(file)\n",
    "    \n",
    "with open(file_rate, 'rb') as file:\n",
    "    MAPR_rec_rate = pickle.load(file)\n",
    "    MAPR_rec_rate_matrix = np.array([[MAPR_rec_rate[i][key]['total_packets_rec_per_hop'] for key in MAPR_rec_rate[i]] for i in range(10)])\n",
    "    MAPR_rec_rate_avg = np.average(MAPR_rec_rate_matrix, axis=0)\n",
    "    MAPR_rec_rate_x_axis = [key for key in MAPR_rec_rate[0]]"
   ]
  },
  {
   "cell_type": "markdown",
   "id": "416dd2b7-63bc-422d-b9ef-87ccd7f9a0ef",
   "metadata": {},
   "source": [
    "## RL+GNN - Attention"
   ]
  },
  {
   "cell_type": "code",
   "execution_count": 6,
   "id": "d6bbcfe1-95b1-4a30-8bd3-f04d9153316d",
   "metadata": {
    "execution": {
     "iopub.execute_input": "2024-06-02T06:01:09.449304Z",
     "iopub.status.busy": "2024-06-02T06:01:09.449079Z",
     "iopub.status.idle": "2024-06-02T06:01:09.451949Z",
     "shell.execute_reply": "2024-06-02T06:01:09.451269Z",
     "shell.execute_reply.started": "2024-06-02T06:01:09.449288Z"
    }
   },
   "outputs": [],
   "source": [
    "mean_ttl_received_k = {}\n",
    "num_packets_received_k = {}\n",
    "tot_packets_sent_k = {}\n",
    "avg_rec_rate_k = {}\n",
    "rec_rate_k_x_axis = MAPR_rec_rate_x_axis"
   ]
  },
  {
   "cell_type": "code",
   "execution_count": 7,
   "id": "9c0dd3b7-5a85-4901-b7ed-4f89429ed770",
   "metadata": {
    "execution": {
     "iopub.execute_input": "2024-06-02T06:01:09.481696Z",
     "iopub.status.busy": "2024-06-02T06:01:09.481482Z",
     "iopub.status.idle": "2024-06-02T06:01:09.487909Z",
     "shell.execute_reply": "2024-06-02T06:01:09.487488Z",
     "shell.execute_reply.started": "2024-06-02T06:01:09.481679Z"
    }
   },
   "outputs": [],
   "source": [
    "k = 0\n",
    "\n",
    "file_ttl = 'mean_ttl_received_k_0.pkl'\n",
    "file_received = 'num_packets_received_k_0.pkl'\n",
    "file_total = 'tot_packets_sent_k_0.pkl'\n",
    "file_rec = 'rec_rate_k_0.pkl'\n",
    "\n",
    "with open('results_GNN_10_10_'+str(Map_ID)+'/k_' + str(k) + '/' + file_ttl, 'rb') as file:\n",
    "    mean_ttl_received_k[k] = pickle.load(file)\n",
    "\n",
    "with open('results_GNN_10_10_'+str(Map_ID)+'/k_' + str(k) + '/' + file_received, 'rb') as file:\n",
    "    num_packets_received_k[k] = pickle.load(file)\n",
    "\n",
    "with open('results_GNN_10_10_'+str(Map_ID)+'/k_' + str(k) + '/' + file_total, 'rb') as file:\n",
    "    tot_packets_sent_k[k] = pickle.load(file)\n",
    "\n",
    "with open('results_GNN_10_10_'+str(Map_ID)+'/k_' + str(k) + '/' + file_rec, 'rb') as file:\n",
    "    rec_rate_k = pickle.load(file)\n",
    "    rec_rate_k_matrix = np.array([[rec_rate_k[i][key]['total_packets_rec_per_hop'] for key in rec_rate_k[i]] for i in range(10)])\n",
    "    avg_rec_rate_k[k] = np.average(rec_rate_k_matrix, axis=0)"
   ]
  },
  {
   "cell_type": "code",
   "execution_count": 8,
   "id": "47a7e8a4-c93c-4a55-a83e-a2141626f3b3",
   "metadata": {
    "execution": {
     "iopub.execute_input": "2024-06-02T06:01:09.510047Z",
     "iopub.status.busy": "2024-06-02T06:01:09.509785Z",
     "iopub.status.idle": "2024-06-02T06:01:09.514641Z",
     "shell.execute_reply": "2024-06-02T06:01:09.514338Z",
     "shell.execute_reply.started": "2024-06-02T06:01:09.510033Z"
    }
   },
   "outputs": [],
   "source": [
    "k = 1\n",
    "\n",
    "file_ttl = 'mean_ttl_received_k_1.pkl'\n",
    "file_received = 'num_packets_received_k_1.pkl'\n",
    "file_total = 'tot_packets_sent_k_1.pkl'\n",
    "file_rec = 'rec_rate_k_1.pkl'\n",
    "\n",
    "with open('results_GNN_10_10_'+str(Map_ID)+'/k_' + str(k) + '/' + file_ttl, 'rb') as file:\n",
    "    mean_ttl_received_k[k] = pickle.load(file)\n",
    "\n",
    "with open('results_GNN_10_10_'+str(Map_ID)+'/k_' + str(k) + '/' + file_received, 'rb') as file:\n",
    "    num_packets_received_k[k] = pickle.load(file)\n",
    "\n",
    "with open('results_GNN_10_10_'+str(Map_ID)+'/k_' + str(k) + '/' + file_total, 'rb') as file:\n",
    "    tot_packets_sent_k[k] = pickle.load(file)\n",
    "\n",
    "with open('results_GNN_10_10_'+str(Map_ID)+'/k_' + str(k) + '/' + file_rec, 'rb') as file:\n",
    "    rec_rate_k = pickle.load(file)\n",
    "    rec_rate_k_matrix = np.array([[rec_rate_k[i][key]['total_packets_rec_per_hop'] for key in rec_rate_k[i]] for i in range(10)])\n",
    "    avg_rec_rate_k[k] = np.average(rec_rate_k_matrix, axis=0)"
   ]
  },
  {
   "cell_type": "code",
   "execution_count": 9,
   "id": "50f7e647-f888-4a51-ab37-b4615c788770",
   "metadata": {
    "execution": {
     "iopub.execute_input": "2024-06-02T06:01:09.542647Z",
     "iopub.status.busy": "2024-06-02T06:01:09.542482Z",
     "iopub.status.idle": "2024-06-02T06:01:09.547255Z",
     "shell.execute_reply": "2024-06-02T06:01:09.546957Z",
     "shell.execute_reply.started": "2024-06-02T06:01:09.542635Z"
    }
   },
   "outputs": [],
   "source": [
    "k = 2\n",
    "\n",
    "file_ttl = 'mean_ttl_received_k_2.pkl'\n",
    "file_received = 'num_packets_received_k_2.pkl'\n",
    "file_total = 'tot_packets_sent_k_2.pkl'\n",
    "file_rec = 'rec_rate_k_2.pkl'\n",
    "\n",
    "with open('results_GNN_10_10_'+str(Map_ID)+'/k_' + str(k) + '/' + file_ttl, 'rb') as file:\n",
    "    mean_ttl_received_k[k] = pickle.load(file)\n",
    "\n",
    "with open('results_GNN_10_10_'+str(Map_ID)+'/k_' + str(k) + '/' + file_received, 'rb') as file:\n",
    "    num_packets_received_k[k] = pickle.load(file)\n",
    "\n",
    "with open('results_GNN_10_10_'+str(Map_ID)+'/k_' + str(k) + '/' + file_total, 'rb') as file:\n",
    "    tot_packets_sent_k[k] = pickle.load(file)\n",
    "\n",
    "with open('results_GNN_10_10_'+str(Map_ID)+'/k_' + str(k) + '/' + file_rec, 'rb') as file:\n",
    "    rec_rate_k = pickle.load(file)\n",
    "    rec_rate_k_matrix = np.array([[rec_rate_k[i][key]['total_packets_rec_per_hop'] for key in rec_rate_k[i]] for i in range(10)])\n",
    "    avg_rec_rate_k[k] = np.average(rec_rate_k_matrix, axis=0)"
   ]
  },
  {
   "cell_type": "code",
   "execution_count": 10,
   "id": "3227d80f-fd1d-45fc-bc04-223001ab5a28",
   "metadata": {
    "execution": {
     "iopub.execute_input": "2024-06-02T06:01:09.570861Z",
     "iopub.status.busy": "2024-06-02T06:01:09.570706Z",
     "iopub.status.idle": "2024-06-02T06:01:09.575642Z",
     "shell.execute_reply": "2024-06-02T06:01:09.575278Z",
     "shell.execute_reply.started": "2024-06-02T06:01:09.570849Z"
    }
   },
   "outputs": [],
   "source": [
    "k = 3\n",
    "\n",
    "file_ttl = 'mean_ttl_received_k_3.pkl'\n",
    "file_received = 'num_packets_received_k_3.pkl'\n",
    "file_total = 'tot_packets_sent_k_3.pkl'\n",
    "file_rec = 'rec_rate_k_3.pkl'\n",
    "\n",
    "with open('results_GNN_10_10_'+str(Map_ID)+'/k_' + str(k) + '/' + file_ttl, 'rb') as file:\n",
    "    mean_ttl_received_k[k] = pickle.load(file)\n",
    "\n",
    "with open('results_GNN_10_10_'+str(Map_ID)+'/k_' + str(k) + '/' + file_received, 'rb') as file:\n",
    "    num_packets_received_k[k] = pickle.load(file)\n",
    "\n",
    "with open('results_GNN_10_10_'+str(Map_ID)+'/k_' + str(k) + '/' + file_total, 'rb') as file:\n",
    "    tot_packets_sent_k[k] = pickle.load(file)\n",
    "\n",
    "with open('results_GNN_10_10_'+str(Map_ID)+'/k_' + str(k) + '/' + file_rec, 'rb') as file:\n",
    "    rec_rate_k = pickle.load(file)\n",
    "    rec_rate_k_matrix = np.array([[rec_rate_k[i][key]['total_packets_rec_per_hop'] for key in rec_rate_k[i]] for i in range(10)])\n",
    "    avg_rec_rate_k[k] = np.average(rec_rate_k_matrix, axis=0)"
   ]
  },
  {
   "cell_type": "code",
   "execution_count": 11,
   "id": "b65dd1c4-b47a-4ca0-b11f-f7f5dc361a5d",
   "metadata": {
    "execution": {
     "iopub.execute_input": "2024-06-02T06:01:09.601279Z",
     "iopub.status.busy": "2024-06-02T06:01:09.600808Z",
     "iopub.status.idle": "2024-06-02T06:01:09.606437Z",
     "shell.execute_reply": "2024-06-02T06:01:09.606133Z",
     "shell.execute_reply.started": "2024-06-02T06:01:09.601261Z"
    }
   },
   "outputs": [],
   "source": [
    "k = 4\n",
    "\n",
    "file_ttl = 'mean_ttl_received_k_4.pkl'\n",
    "file_received = 'num_packets_received_k_4.pkl'\n",
    "file_total = 'tot_packets_sent_k_4.pkl'\n",
    "file_rec = 'rec_rate_k_4.pkl'\n",
    "\n",
    "with open('results_GNN_10_10_'+str(Map_ID)+'/k_' + str(k) + '/' + file_ttl, 'rb') as file:\n",
    "    mean_ttl_received_k[k] = pickle.load(file)\n",
    "\n",
    "with open('results_GNN_10_10_'+str(Map_ID)+'/k_' + str(k) + '/' + file_received, 'rb') as file:\n",
    "    num_packets_received_k[k] = pickle.load(file)\n",
    "\n",
    "with open('results_GNN_10_10_'+str(Map_ID)+'/k_' + str(k) + '/' + file_total, 'rb') as file:\n",
    "    tot_packets_sent_k[k] = pickle.load(file)\n",
    "\n",
    "with open('results_GNN_10_10_'+str(Map_ID)+'/k_' + str(k) + '/' + file_rec, 'rb') as file:\n",
    "    rec_rate_k = pickle.load(file)\n",
    "    rec_rate_k_matrix = np.array([[rec_rate_k[i][key]['total_packets_rec_per_hop'] for key in rec_rate_k[i]] for i in range(10)])\n",
    "    avg_rec_rate_k[k] = np.average(rec_rate_k_matrix, axis=0)"
   ]
  },
  {
   "cell_type": "code",
   "execution_count": 12,
   "id": "bc8128b6-682e-434c-aac7-41620a9059bb",
   "metadata": {
    "execution": {
     "iopub.execute_input": "2024-06-02T06:01:09.630737Z",
     "iopub.status.busy": "2024-06-02T06:01:09.630447Z",
     "iopub.status.idle": "2024-06-02T06:01:09.635878Z",
     "shell.execute_reply": "2024-06-02T06:01:09.635612Z",
     "shell.execute_reply.started": "2024-06-02T06:01:09.630722Z"
    }
   },
   "outputs": [],
   "source": [
    "k = 5\n",
    "\n",
    "file_ttl = 'mean_ttl_received_k_5.pkl'\n",
    "file_received = 'num_packets_received_k_5.pkl'\n",
    "file_total = 'tot_packets_sent_k_5.pkl'\n",
    "file_rec = 'rec_rate_k_5.pkl'\n",
    "\n",
    "with open('results_GNN_10_10_'+str(Map_ID)+'/k_' + str(k) + '/' + file_ttl, 'rb') as file:\n",
    "    mean_ttl_received_k[k] = pickle.load(file)\n",
    "\n",
    "with open('results_GNN_10_10_'+str(Map_ID)+'/k_' + str(k) + '/' + file_received, 'rb') as file:\n",
    "    num_packets_received_k[k] = pickle.load(file)\n",
    "\n",
    "with open('results_GNN_10_10_'+str(Map_ID)+'/k_' + str(k) + '/' + file_total, 'rb') as file:\n",
    "    tot_packets_sent_k[k] = pickle.load(file)\n",
    "\n",
    "with open('results_GNN_10_10_'+str(Map_ID)+'/k_' + str(k) + '/' + file_rec, 'rb') as file:\n",
    "    rec_rate_k = pickle.load(file)\n",
    "    rec_rate_k_matrix = np.array([[rec_rate_k[i][key]['total_packets_rec_per_hop'] for key in rec_rate_k[i]] for i in range(10)])\n",
    "    avg_rec_rate_k[k] = np.average(rec_rate_k_matrix, axis=0)"
   ]
  },
  {
   "cell_type": "code",
   "execution_count": 13,
   "id": "dba7db65-cba9-4129-a565-d35d6b5ebff8",
   "metadata": {
    "execution": {
     "iopub.execute_input": "2024-06-02T06:01:09.661343Z",
     "iopub.status.busy": "2024-06-02T06:01:09.661003Z",
     "iopub.status.idle": "2024-06-02T06:01:09.667146Z",
     "shell.execute_reply": "2024-06-02T06:01:09.666829Z",
     "shell.execute_reply.started": "2024-06-02T06:01:09.661324Z"
    }
   },
   "outputs": [],
   "source": [
    "k = 6\n",
    "\n",
    "file_ttl = 'mean_ttl_received_k_6.pkl'\n",
    "file_received = 'num_packets_received_k_6.pkl'\n",
    "file_total = 'tot_packets_sent_k_6.pkl'\n",
    "file_rec = 'rec_rate_k_6.pkl'\n",
    "\n",
    "with open('results_GNN_10_10_'+str(Map_ID)+'/k_' + str(k) + '/' + file_ttl, 'rb') as file:\n",
    "    mean_ttl_received_k[k] = pickle.load(file)\n",
    "\n",
    "with open('results_GNN_10_10_'+str(Map_ID)+'/k_' + str(k) + '/' + file_received, 'rb') as file:\n",
    "    num_packets_received_k[k] = pickle.load(file)\n",
    "\n",
    "with open('results_GNN_10_10_'+str(Map_ID)+'/k_' + str(k) + '/' + file_total, 'rb') as file:\n",
    "    tot_packets_sent_k[k] = pickle.load(file)\n",
    "\n",
    "with open('results_GNN_10_10_'+str(Map_ID)+'/k_' + str(k) + '/' + file_rec, 'rb') as file:\n",
    "    rec_rate_k = pickle.load(file)\n",
    "    rec_rate_k_matrix = np.array([[rec_rate_k[i][key]['total_packets_rec_per_hop'] for key in rec_rate_k[i]] for i in range(10)])\n",
    "    avg_rec_rate_k[k] = np.average(rec_rate_k_matrix, axis=0)"
   ]
  },
  {
   "cell_type": "code",
   "execution_count": 14,
   "id": "257e49f5-7071-4d97-8faa-ceeb024b0dd3",
   "metadata": {
    "execution": {
     "iopub.execute_input": "2024-06-02T06:01:09.691655Z",
     "iopub.status.busy": "2024-06-02T06:01:09.691284Z",
     "iopub.status.idle": "2024-06-02T06:01:09.696592Z",
     "shell.execute_reply": "2024-06-02T06:01:09.696322Z",
     "shell.execute_reply.started": "2024-06-02T06:01:09.691641Z"
    }
   },
   "outputs": [],
   "source": [
    "k = 7\n",
    "\n",
    "file_ttl = 'mean_ttl_received_k_7.pkl'\n",
    "file_received = 'num_packets_received_k_7.pkl'\n",
    "file_total = 'tot_packets_sent_k_7.pkl'\n",
    "file_rec = 'rec_rate_k_7.pkl'\n",
    "\n",
    "with open('results_GNN_10_10_'+str(Map_ID)+'/k_' + str(k) + '/' + file_ttl, 'rb') as file:\n",
    "    mean_ttl_received_k[k] = pickle.load(file)\n",
    "\n",
    "with open('results_GNN_10_10_'+str(Map_ID)+'/k_' + str(k) + '/' + file_received, 'rb') as file:\n",
    "    num_packets_received_k[k] = pickle.load(file)\n",
    "\n",
    "with open('results_GNN_10_10_'+str(Map_ID)+'/k_' + str(k) + '/' + file_total, 'rb') as file:\n",
    "    tot_packets_sent_k[k] = pickle.load(file)\n",
    "\n",
    "with open('results_GNN_10_10_'+str(Map_ID)+'/k_' + str(k) + '/' + file_rec, 'rb') as file:\n",
    "    rec_rate_k = pickle.load(file)\n",
    "    rec_rate_k_matrix = np.array([[rec_rate_k[i][key]['total_packets_rec_per_hop'] for key in rec_rate_k[i]] for i in range(10)])\n",
    "    avg_rec_rate_k[k] = np.average(rec_rate_k_matrix, axis=0)"
   ]
  },
  {
   "cell_type": "code",
   "execution_count": null,
   "id": "f49e04a5-8b3d-4918-bef9-900b5f862698",
   "metadata": {},
   "outputs": [],
   "source": []
  },
  {
   "cell_type": "code",
   "execution_count": null,
   "id": "d4813747-50b7-49d3-a3f0-ee5091c1bb3a",
   "metadata": {},
   "outputs": [],
   "source": []
  },
  {
   "cell_type": "code",
   "execution_count": null,
   "id": "82326d07-fd75-4e3a-8e06-ee1e78caf7ce",
   "metadata": {},
   "outputs": [],
   "source": []
  },
  {
   "cell_type": "code",
   "execution_count": null,
   "id": "0450010d-dcbb-440a-a60d-dc9fc42c1af3",
   "metadata": {},
   "outputs": [],
   "source": []
  },
  {
   "cell_type": "code",
   "execution_count": null,
   "id": "f84cf3d7-acfd-4608-85f5-8ef47033c4d0",
   "metadata": {},
   "outputs": [],
   "source": []
  },
  {
   "cell_type": "code",
   "execution_count": 15,
   "id": "a19d2e5e-bab5-46cf-9818-17504b65ddc4",
   "metadata": {
    "execution": {
     "iopub.execute_input": "2024-06-02T06:01:10.726959Z",
     "iopub.status.busy": "2024-06-02T06:01:10.725977Z",
     "iopub.status.idle": "2024-06-02T06:01:10.730638Z",
     "shell.execute_reply": "2024-06-02T06:01:10.730186Z",
     "shell.execute_reply.started": "2024-06-02T06:01:10.726881Z"
    }
   },
   "outputs": [],
   "source": [
    "average_mean_ttl_received_k = {key: np.mean(mean_ttl_received_k[key]) for key in mean_ttl_received_k}\n",
    "average_num_packets_received_k = {key: np.mean(num_packets_received_k[key]) for key in num_packets_received_k}"
   ]
  },
  {
   "cell_type": "code",
   "execution_count": null,
   "id": "d4699b27-220a-45bc-8212-7c0e220e30e5",
   "metadata": {},
   "outputs": [],
   "source": []
  },
  {
   "cell_type": "code",
   "execution_count": 17,
   "id": "6ac4128e-0a9d-4aff-960b-831a3720c787",
   "metadata": {
    "execution": {
     "iopub.execute_input": "2024-06-02T06:07:41.154102Z",
     "iopub.status.busy": "2024-06-02T06:07:41.153816Z",
     "iopub.status.idle": "2024-06-02T06:07:41.158421Z",
     "shell.execute_reply": "2024-06-02T06:07:41.157774Z",
     "shell.execute_reply.started": "2024-06-02T06:07:41.154079Z"
    }
   },
   "outputs": [],
   "source": [
    "map_0_info = {'MAPR_mean_ttl_received':MAPR_mean_ttl_received,\n",
    "              'MAPR_num_packets_received': MAPR_num_packets_received,\n",
    "              'MAPR_tot_packets_sent': MAPR_tot_packets_sent,\n",
    "              'MAPR_rec_rate_avg': MAPR_rec_rate_avg,\n",
    "              'MAPR_rec_rate_x_axis': MAPR_rec_rate_x_axis,\n",
    "              'mean_ttl_received_k': mean_ttl_received_k,\n",
    "              'num_packets_received_k': num_packets_received_k,\n",
    "              'tot_packets_sent_k': tot_packets_sent_k,\n",
    "              'avg_rec_rate_k': avg_rec_rate_k,\n",
    "              'rec_rate_k_x_axis': rec_rate_k_x_axis,\n",
    "              'average_mean_ttl_received_k': average_mean_ttl_received_k,\n",
    "              'average_num_packets_received_k': average_num_packets_received_k\n",
    "             }\n",
    "with open('map_0_info.pkl', 'wb') as file:\n",
    "    pickle.dump(map_0_info, file)"
   ]
  },
  {
   "cell_type": "code",
   "execution_count": 20,
   "id": "84c09d30-60c0-457a-a939-3290b2984d4a",
   "metadata": {
    "execution": {
     "iopub.execute_input": "2024-06-02T06:09:10.457223Z",
     "iopub.status.busy": "2024-06-02T06:09:10.456125Z",
     "iopub.status.idle": "2024-06-02T06:09:10.460127Z",
     "shell.execute_reply": "2024-06-02T06:09:10.459757Z",
     "shell.execute_reply.started": "2024-06-02T06:09:10.457177Z"
    }
   },
   "outputs": [],
   "source": []
  },
  {
   "cell_type": "code",
   "execution_count": null,
   "id": "876cdf42-b0e6-40b5-b4b0-f7c0e4919c92",
   "metadata": {},
   "outputs": [],
   "source": []
  },
  {
   "cell_type": "code",
   "execution_count": null,
   "id": "3148a7c9-94fc-4dab-9311-bb0b947b6621",
   "metadata": {},
   "outputs": [],
   "source": []
  },
  {
   "cell_type": "code",
   "execution_count": null,
   "id": "d549c653-7f82-437d-93a9-446210b97966",
   "metadata": {},
   "outputs": [],
   "source": []
  }
 ],
 "metadata": {
  "kernelspec": {
   "display_name": "Python 3 (ipykernel)",
   "language": "python",
   "name": "python3"
  },
  "language_info": {
   "codemirror_mode": {
    "name": "ipython",
    "version": 3
   },
   "file_extension": ".py",
   "mimetype": "text/x-python",
   "name": "python",
   "nbconvert_exporter": "python",
   "pygments_lexer": "ipython3",
   "version": "3.12.2"
  }
 },
 "nbformat": 4,
 "nbformat_minor": 5
}
