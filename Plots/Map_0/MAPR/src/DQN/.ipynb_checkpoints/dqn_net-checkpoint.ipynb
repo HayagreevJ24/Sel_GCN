{
 "cells": [
  {
   "cell_type": "markdown",
   "id": "63f9820d-21c4-4ab9-bdea-234dcd7de20e",
   "metadata": {},
   "source": [
    "# Code"
   ]
  },
  {
   "cell_type": "code",
   "execution_count": 22,
   "id": "ec5be513-d77c-44f6-9f6c-c4ec6013755a",
   "metadata": {},
   "outputs": [
    {
     "data": {
      "text/plain": [
       "'\\nScript that contains details about the neural network model used for the DQN Agent\\n'"
      ]
     },
     "execution_count": 22,
     "metadata": {},
     "output_type": "execute_result"
    }
   ],
   "source": [
    "\"\"\"\n",
    "Script that contains details about the neural network model used for the DQN Agent\n",
    "\"\"\""
   ]
  },
  {
   "cell_type": "markdown",
   "id": "8a4e2910-6ae7-4302-a804-053f83e3960a",
   "metadata": {},
   "source": [
    "Import the libraries"
   ]
  },
  {
   "cell_type": "code",
   "execution_count": 2,
   "id": "63fac485-3219-47b0-9fe1-1d7727003e45",
   "metadata": {},
   "outputs": [],
   "source": [
    "import torch\n",
    "import torch.nn as nn\n",
    "import torch.optim as optim\n",
    "import torch.nn.functional as F"
   ]
  },
  {
   "cell_type": "markdown",
   "id": "6269879b-42c3-4ed7-a13f-332a59d4faed",
   "metadata": {},
   "source": [
    "Get the file storing the configurations and read it"
   ]
  },
  {
   "cell_type": "code",
   "execution_count": 3,
   "id": "27865c70-7d91-4418-8c12-28004fcfaa8e",
   "metadata": {},
   "outputs": [
    {
     "ename": "AttributeError",
     "evalue": "module 'builtins' has no attribute 'current_filename'",
     "output_type": "error",
     "traceback": [
      "\u001b[0;31m---------------------------------------------------------------------------\u001b[0m",
      "\u001b[0;31mAttributeError\u001b[0m                            Traceback (most recent call last)",
      "Cell \u001b[0;32mIn[3], line 5\u001b[0m\n\u001b[1;32m      3\u001b[0m configur \u001b[38;5;241m=\u001b[39m ConfigParser()\n\u001b[1;32m      4\u001b[0m \u001b[38;5;28;01mimport\u001b[39;00m \u001b[38;5;21;01mbuiltins\u001b[39;00m\n\u001b[0;32m----> 5\u001b[0m configur\u001b[38;5;241m.\u001b[39mread(builtins\u001b[38;5;241m.\u001b[39mcurrent_filename)\n",
      "\u001b[0;31mAttributeError\u001b[0m: module 'builtins' has no attribute 'current_filename'"
     ]
    }
   ],
   "source": [
    "from configparser import ConfigParser\n",
    "  \n",
    "configur = ConfigParser()\n",
    "import builtins\n",
    "configur.read(builtins.current_filename)"
   ]
  },
  {
   "cell_type": "markdown",
   "id": "b1b9882b-5b55-42cb-9a86-56c8ab9d1d49",
   "metadata": {},
   "source": [
    "Read the layer parameter from the sign"
   ]
  },
  {
   "cell_type": "code",
   "execution_count": 4,
   "id": "7ea768c6-c560-40bc-98e9-422663f37c07",
   "metadata": {},
   "outputs": [
    {
     "ename": "NoSectionError",
     "evalue": "No section: 'architecture'",
     "output_type": "error",
     "traceback": [
      "\u001b[0;31m---------------------------------------------------------------------------\u001b[0m",
      "\u001b[0;31mNoSectionError\u001b[0m                            Traceback (most recent call last)",
      "Cell \u001b[0;32mIn[4], line 1\u001b[0m\n\u001b[0;32m----> 1\u001b[0m layer1\u001b[38;5;241m=\u001b[39m\u001b[38;5;28mint\u001b[39m(configur\u001b[38;5;241m.\u001b[39mget(\u001b[38;5;124m'\u001b[39m\u001b[38;5;124marchitecture\u001b[39m\u001b[38;5;124m'\u001b[39m,\u001b[38;5;124m'\u001b[39m\u001b[38;5;124mlayer1\u001b[39m\u001b[38;5;124m'\u001b[39m))\n\u001b[1;32m      2\u001b[0m layer2\u001b[38;5;241m=\u001b[39m\u001b[38;5;28mint\u001b[39m(configur\u001b[38;5;241m.\u001b[39mget(\u001b[38;5;124m'\u001b[39m\u001b[38;5;124marchitecture\u001b[39m\u001b[38;5;124m'\u001b[39m,\u001b[38;5;124m'\u001b[39m\u001b[38;5;124mlayer2\u001b[39m\u001b[38;5;124m'\u001b[39m))\n",
      "File \u001b[0;32m~/miniconda3/envs/MAPR/lib/python3.11/configparser.py:797\u001b[0m, in \u001b[0;36mRawConfigParser.get\u001b[0;34m(self, section, option, raw, vars, fallback)\u001b[0m\n\u001b[1;32m    782\u001b[0m \u001b[38;5;250m\u001b[39m\u001b[38;5;124;03m\"\"\"Get an option value for a given section.\u001b[39;00m\n\u001b[1;32m    783\u001b[0m \n\u001b[1;32m    784\u001b[0m \u001b[38;5;124;03mIf `vars` is provided, it must be a dictionary. The option is looked up\u001b[39;00m\n\u001b[0;32m   (...)\u001b[0m\n\u001b[1;32m    794\u001b[0m \u001b[38;5;124;03mThe section DEFAULT is special.\u001b[39;00m\n\u001b[1;32m    795\u001b[0m \u001b[38;5;124;03m\"\"\"\u001b[39;00m\n\u001b[1;32m    796\u001b[0m \u001b[38;5;28;01mtry\u001b[39;00m:\n\u001b[0;32m--> 797\u001b[0m     d \u001b[38;5;241m=\u001b[39m \u001b[38;5;28mself\u001b[39m\u001b[38;5;241m.\u001b[39m_unify_values(section, \u001b[38;5;28mvars\u001b[39m)\n\u001b[1;32m    798\u001b[0m \u001b[38;5;28;01mexcept\u001b[39;00m NoSectionError:\n\u001b[1;32m    799\u001b[0m     \u001b[38;5;28;01mif\u001b[39;00m fallback \u001b[38;5;129;01mis\u001b[39;00m _UNSET:\n",
      "File \u001b[0;32m~/miniconda3/envs/MAPR/lib/python3.11/configparser.py:1168\u001b[0m, in \u001b[0;36mRawConfigParser._unify_values\u001b[0;34m(self, section, vars)\u001b[0m\n\u001b[1;32m   1166\u001b[0m \u001b[38;5;28;01mexcept\u001b[39;00m \u001b[38;5;167;01mKeyError\u001b[39;00m:\n\u001b[1;32m   1167\u001b[0m     \u001b[38;5;28;01mif\u001b[39;00m section \u001b[38;5;241m!=\u001b[39m \u001b[38;5;28mself\u001b[39m\u001b[38;5;241m.\u001b[39mdefault_section:\n\u001b[0;32m-> 1168\u001b[0m         \u001b[38;5;28;01mraise\u001b[39;00m NoSectionError(section) \u001b[38;5;28;01mfrom\u001b[39;00m \u001b[38;5;28;01mNone\u001b[39;00m\n\u001b[1;32m   1169\u001b[0m \u001b[38;5;66;03m# Update with the entry specific variables\u001b[39;00m\n\u001b[1;32m   1170\u001b[0m vardict \u001b[38;5;241m=\u001b[39m {}\n",
      "\u001b[0;31mNoSectionError\u001b[0m: No section: 'architecture'"
     ]
    }
   ],
   "source": [
    "layer1=int(configur.get('architecture','layer1'))\n",
    "layer2=int(configur.get('architecture','layer2'))\n",
    "\n",
    "# configur.read('config.ini')"
   ]
  },
  {
   "cell_type": "markdown",
   "id": "2ea8f906-2e63-48ea-a0b2-cb26b41ed2dc",
   "metadata": {},
   "source": [
    "Initialise the model with two hidden layers and an output layer."
   ]
  },
  {
   "cell_type": "code",
   "execution_count": 8,
   "id": "e1dad535-8683-45fe-936b-4fdcb57e8571",
   "metadata": {},
   "outputs": [],
   "source": [
    "class DQNNet(nn.Module):\n",
    "    \"\"\"\n",
    "    Class that defines the architecture of the neural network for the DQN agent\n",
    "    \"\"\"\n",
    "    def __init__(self, input_size, output_size, lr=1e-3):\n",
    "        super(DQNNet, self).__init__()\n",
    "        self.dense1 = nn.Linear(input_size, layer1)\n",
    "        self.dense2 = nn.Linear(layer1, layer2)\n",
    "        self.dense3 = nn.Linear(layer2, output_size)\n",
    "\n",
    "        self.optimizer = optim.Adam(self.parameters(), lr=lr)\n",
    "\n",
    "    # Define the forward pass of the network.\n",
    "    def forward(self, x):\n",
    "        x = F.relu(self.dense1(x))\n",
    "        x = F.relu(self.dense2(x))\n",
    "        x = self.dense3(x)\n",
    "        return x\n",
    "\n",
    "    # Save the model.\n",
    "    def saveModel(self, filename):\n",
    "        \"\"\"\n",
    "        Function to save model parameters\n",
    "\n",
    "        Parameters\n",
    "        ---\n",
    "        filename: str\n",
    "            Location of the file where the model is to be saved\n",
    "\n",
    "        Returns\n",
    "        ---\n",
    "        none\n",
    "        \"\"\"\n",
    "\n",
    "        torch.save(self.state_dict(), filename)\n",
    "    #Load the saved model from the file.\n",
    "    def loadModel(self, filename, device):\n",
    "        \"\"\"\n",
    "        Function to load model parameters\n",
    "\n",
    "        Parameters\n",
    "        ---\n",
    "        filename: str\n",
    "            Location of the file from where the model is to be loaded\n",
    "        device:\n",
    "            Device in use - CPU or GPU\n",
    "\n",
    "        Returns\n",
    "        ---\n",
    "        none\n",
    "        \"\"\"\n",
    "\n",
    "        # map_location is required to ensure that a model that is trained on GPU can be run even on CPU\n",
    "        self.load_state_dict(torch.load(filename, map_location=device))"
   ]
  },
  {
   "cell_type": "markdown",
   "id": "da354926-b285-46f7-86a1-eca332584c87",
   "metadata": {},
   "source": []
  },
  {
   "cell_type": "code",
   "execution_count": null,
   "id": "c8618b8a-5798-4985-b576-1672bfb08ab2",
   "metadata": {},
   "outputs": [],
   "source": []
  },
  {
   "cell_type": "markdown",
   "id": "2358e36c-aec0-480e-bfd7-00e5e23b4d64",
   "metadata": {},
   "source": []
  },
  {
   "cell_type": "code",
   "execution_count": 29,
   "id": "4ac11f85-70ec-4605-99c6-63c2de0e9f84",
   "metadata": {},
   "outputs": [],
   "source": []
  },
  {
   "cell_type": "markdown",
   "id": "e6e2e947-e3ba-4a23-b772-00a06bf6e34e",
   "metadata": {},
   "source": []
  },
  {
   "cell_type": "code",
   "execution_count": null,
   "id": "8cbb6273-9d77-4fa4-a12a-577f8438aa7f",
   "metadata": {},
   "outputs": [],
   "source": []
  },
  {
   "cell_type": "code",
   "execution_count": null,
   "id": "22d22675-a8c1-4f7f-8147-55103cf54745",
   "metadata": {},
   "outputs": [],
   "source": []
  }
 ],
 "metadata": {
  "kernelspec": {
   "display_name": "Python 3 (ipykernel)",
   "language": "python",
   "name": "python3"
  },
  "language_info": {
   "codemirror_mode": {
    "name": "ipython",
    "version": 3
   },
   "file_extension": ".py",
   "mimetype": "text/x-python",
   "name": "python",
   "nbconvert_exporter": "python",
   "pygments_lexer": "ipython3",
   "version": "3.11.5"
  }
 },
 "nbformat": 4,
 "nbformat_minor": 5
}
