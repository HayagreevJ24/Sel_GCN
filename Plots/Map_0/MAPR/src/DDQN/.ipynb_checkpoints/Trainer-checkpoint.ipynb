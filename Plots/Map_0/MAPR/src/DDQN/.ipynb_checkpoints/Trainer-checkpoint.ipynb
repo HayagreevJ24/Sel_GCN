{
 "cells": [
  {
   "cell_type": "code",
   "execution_count": null,
   "id": "e25c7d3c-9654-4d0e-b6ea-2be4f1fe29a8",
   "metadata": {},
   "outputs": [],
   "source": [
    "%run src/DDQN/Agent.ipynb\n",
    "%run src/DDQN/ReplayMemory.ipynb\n",
    "import tqdm"
   ]
  },
  {
   "cell_type": "code",
   "execution_count": 2,
   "id": "f6a3e440-c6d6-42ab-a3f5-165c9303dbf2",
   "metadata": {},
   "outputs": [],
   "source": [
    "class DDQNTrainerParams:\n",
    "    def __init__(self):\n",
    "        self.batch_size = 128\n",
    "        self.num_steps = 1e6\n",
    "        self.rm_pre_fill_ratio = 0.5\n",
    "        self.rm_pre_fill_random = True\n",
    "        self.eval_period = 5\n",
    "        self.rm_size = 50000\n",
    "        self.load_model = \"\"\n",
    "\n",
    "\n",
    "class DDQNTrainer:\n",
    "    def __init__(self, params: DDQNTrainerParams, agent: DDQNAgent):\n",
    "        self.params = params\n",
    "        self.replay_memory = ReplayMemory(size=params.rm_size)\n",
    "        self.agent = agent\n",
    "        # self.use_scalar_input = self.agent.params.use_scalar_input\n",
    "\n",
    "        if self.params.load_model != \"\":\n",
    "            print(\"Loading model\", self.params.load_model, \"for agent\")\n",
    "            self.agent.load_weights(self.params.load_model)\n",
    "\n",
    "        self.prefill_bar = None\n",
    "\n",
    "    def add_experience(self, state, action, reward, next_state):\n",
    "        self.replay_memory.store((state, action, reward, next_state))\n",
    "    \n",
    "\n",
    "    def train_agent(self):\n",
    "        if self.params.batch_size > self.replay_memory.get_size():\n",
    "            return\n",
    "        mini_batch = self.replay_memory.sample(self.params.batch_size)\n",
    "\n",
    "        self.agent.train(mini_batch)\n",
    "\n",
    "\n",
    "    def should_fill_replay_memory(self):  # maybe remove and always fill replay memory to simplify\n",
    "        target_size = self.replay_memory.get_max_size() * self.params.rm_pre_fill_ratio\n",
    "        if self.replay_memory.get_size() >= target_size or self.replay_memory.full:\n",
    "            if self.prefill_bar:\n",
    "                self.prefill_bar.close()\n",
    "            return False\n",
    "\n",
    "        if self.prefill_bar is None:\n",
    "            print(\"Filling replay memory\")\n",
    "            self.prefill_bar = tqdm.tqdm(total=target_size)\n",
    "\n",
    "        self.prefill_bar.update(self.replay_memory.get_size() - self.prefill_bar.n)\n",
    "\n",
    "        return True"
   ]
  },
  {
   "cell_type": "code",
   "execution_count": null,
   "id": "5fc33dd2-353b-4cb0-9eb1-651d201c09f7",
   "metadata": {},
   "outputs": [],
   "source": []
  }
 ],
 "metadata": {
  "kernelspec": {
   "display_name": "Python 3 (ipykernel)",
   "language": "python",
   "name": "python3"
  },
  "language_info": {
   "codemirror_mode": {
    "name": "ipython",
    "version": 3
   },
   "file_extension": ".py",
   "mimetype": "text/x-python",
   "name": "python",
   "nbconvert_exporter": "python",
   "pygments_lexer": "ipython3",
   "version": "3.11.5"
  }
 },
 "nbformat": 4,
 "nbformat_minor": 5
}
