{
 "cells": [
  {
   "cell_type": "markdown",
   "id": "b2897deb-a30f-4c6a-af9c-9815a19e5bfd",
   "metadata": {},
   "source": [
    "A block is neither a UAV nor an IotNode, nor a Basestation nor Base.\n",
    "It only stores its position."
   ]
  },
  {
   "cell_type": "code",
   "execution_count": null,
   "id": "e2b641d3-43c7-4346-875a-07053608663c",
   "metadata": {},
   "outputs": [],
   "source": [
    "from torch import true_divide\n",
    "\n",
    "class Block():\n",
    "    def __init__(self,position):\n",
    "        self.position= position\n",
    "    \n",
    "    def isUAV(self):\n",
    "        return False\n",
    "    \n",
    "    def isBase(self):\n",
    "        return False\n",
    "     \n",
    "    def isIot(self):\n",
    "        return False\n",
    "\n",
    "    def isBlock(self):\n",
    "        return True\n",
    "\n",
    "    def isBaseStation(self):\n",
    "        return False\n",
    "    \n",
    "    def reset(self):\n",
    "        pass"
   ]
  }
 ],
 "metadata": {
  "kernelspec": {
   "display_name": "Python 3 (ipykernel)",
   "language": "python",
   "name": "python3"
  },
  "language_info": {
   "codemirror_mode": {
    "name": "ipython",
    "version": 3
   },
   "file_extension": ".py",
   "mimetype": "text/x-python",
   "name": "python",
   "nbconvert_exporter": "python",
   "pygments_lexer": "ipython3",
   "version": "3.10.12"
  }
 },
 "nbformat": 4,
 "nbformat_minor": 5
}
