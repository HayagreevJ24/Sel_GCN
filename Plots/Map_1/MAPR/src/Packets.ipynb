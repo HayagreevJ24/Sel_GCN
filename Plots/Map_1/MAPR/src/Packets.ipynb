{
 "cells": [
  {
   "cell_type": "markdown",
   "id": "59313fd5-0fed-4a0a-aff0-053f96e90ff2",
   "metadata": {},
   "source": [
    "The class packet is initialised with time to live(number of hops in most probably) and is path as a list.\n",
    "- dedecrease_ttl - reduces self.ttl by 1\n",
    "- get_ttl - returns self.ttl\n",
    "- getPath - returns self.path\n",
    "- addToPath - adds the (x,y) coordinates of the grid cell to the Path.\n",
    "Doubt - Does the generation cell get added to the path?"
   ]
  },
  {
   "cell_type": "code",
   "execution_count": 1,
   "id": "2299fc25-3b83-4a4f-bc09-052617097fef",
   "metadata": {},
   "outputs": [],
   "source": [
    "class packet():\n",
    "    \n",
    "    def __init__(self,ttl):\n",
    "        self.ttl=ttl\n",
    "        self.path = []\n",
    "\n",
    "    def decrease_ttl(self):\n",
    "        self.ttl-=1\n",
    "        \n",
    "    def get_ttl(self):\n",
    "        return self.ttl\n",
    "    \n",
    "    def getPath(self):\n",
    "        return self.path\n",
    "    \n",
    "    def addToPath(self, x,y):\n",
    "        self.path.append((x,y))"
   ]
  },
  {
   "cell_type": "code",
   "execution_count": null,
   "id": "a22bb4b7-3972-4f72-a1f8-94505ba35518",
   "metadata": {},
   "outputs": [],
   "source": []
  }
 ],
 "metadata": {
  "kernelspec": {
   "display_name": "Python 3 (ipykernel)",
   "language": "python",
   "name": "python3"
  },
  "language_info": {
   "codemirror_mode": {
    "name": "ipython",
    "version": 3
   },
   "file_extension": ".py",
   "mimetype": "text/x-python",
   "name": "python",
   "nbconvert_exporter": "python",
   "pygments_lexer": "ipython3",
   "version": "3.10.12"
  }
 },
 "nbformat": 4,
 "nbformat_minor": 5
}
