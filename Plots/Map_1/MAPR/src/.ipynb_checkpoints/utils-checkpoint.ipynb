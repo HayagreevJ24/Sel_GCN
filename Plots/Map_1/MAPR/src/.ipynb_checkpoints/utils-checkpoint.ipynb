{
 "cells": [
  {
   "cell_type": "markdown",
   "id": "9afd67fc-0a99-44d2-8c98-d21bc6b62ffb",
   "metadata": {},
   "source": [
    "It calculates the ManhattanDistance: |x1-x2| + |y1-y2|"
   ]
  },
  {
   "cell_type": "code",
   "execution_count": null,
   "id": "be3206b7-1ff1-47b0-911f-cf3637e28b3b",
   "metadata": {},
   "outputs": [],
   "source": [
    "def getManhattanDistance(pos, basePos):\n",
    "    return abs(pos[0] - basePos[0]) + abs(pos[1] - basePos[1])"
   ]
  }
 ],
 "metadata": {
  "kernelspec": {
   "display_name": "Python 3 (ipykernel)",
   "language": "python",
   "name": "python3"
  },
  "language_info": {
   "codemirror_mode": {
    "name": "ipython",
    "version": 3
   },
   "file_extension": ".py",
   "mimetype": "text/x-python",
   "name": "python",
   "nbconvert_exporter": "python",
   "pygments_lexer": "ipython3",
   "version": "3.10.12"
  }
 },
 "nbformat": 4,
 "nbformat_minor": 5
}
