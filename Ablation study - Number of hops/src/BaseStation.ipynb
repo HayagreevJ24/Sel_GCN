{
 "cells": [
  {
   "cell_type": "code",
   "execution_count": null,
   "id": "3a573fb4-ed8d-4f40-a788-2808b19d2569",
   "metadata": {},
   "outputs": [],
   "source": [
    "%run src/Packets.ipynb"
   ]
  },
  {
   "cell_type": "markdown",
   "id": "6a9af2b1-2ad5-433e-8987-7de4c81ca692",
   "metadata": {},
   "source": [
    "Reads the configurations from the config file.\n",
    "- scale_base_reward - Scaling factor in reward provided by Base Station when a packet is delivered"
   ]
  },
  {
   "cell_type": "code",
   "execution_count": null,
   "id": "3cc1cd8d-0bfb-4e55-8937-8da88e4bddc9",
   "metadata": {},
   "outputs": [],
   "source": [
    "# from configparser import ConfigParser\n",
    "  \n",
    "# configur = ConfigParser()\n",
    "# import builtins\n",
    "# configur.read(builtins.current_filename)\n",
    "\n",
    "# #configur.read('config.ini')\n",
    "# scale_base_reward = int(configur.get('reward','scale_base_reward'))"
   ]
  },
  {
   "cell_type": "markdown",
   "id": "54261e3e-9262-46c7-a7a2-1a760e05530b",
   "metadata": {},
   "source": [
    "The Base Station only receives packets\n",
    "- self.position - stores the position of the Base Station\n",
    "- self.packetRecv - initially set to 0, stores the number of packets recieved\n",
    "- self.packets_received - list of all the packets received\n",
    "- self.totalTtl - the total Ttl of the all the packets is received - what is the use"
   ]
  },
  {
   "cell_type": "markdown",
   "id": "18c6e12c-9a40-4a2e-8c3d-c14cf9997e8b",
   "metadata": {},
   "source": [
    "acceptPacket\n",
    "-  increases the number of packets received by one\n",
    "-  increases the totalTtl time.\n",
    "-  appends the packet to the packets_received list"
   ]
  },
  {
   "cell_type": "markdown",
   "id": "05d7a19b-0316-4502-a364-0c0eb746379f",
   "metadata": {},
   "source": [
    "getReward\n",
    "- returns the square of the ttl of the last packer multiplied by a scale factor."
   ]
  },
  {
   "cell_type": "markdown",
   "id": "ef4be924-634e-466c-bd54-b85c2e2986fe",
   "metadata": {},
   "source": [
    "getPosition\n",
    "- returns position\n",
    "isUAv isIot, isBlock - all False\n",
    "isBase  - True\n",
    "getVal - returns total number of Packets received\n"
   ]
  },
  {
   "cell_type": "markdown",
   "id": "b97c79a2-7784-4a41-b5ec-f94de23f23fd",
   "metadata": {},
   "source": [
    "reset\n",
    "- self.packetRecv -  set to 0,\n",
    "- self.packets_received - empty list\n",
    "- self.totalTtl - set to 0"
   ]
  },
  {
   "cell_type": "code",
   "execution_count": 2,
   "id": "47c4bbc9-7c2b-4018-b0fe-360e706dc6d4",
   "metadata": {},
   "outputs": [],
   "source": [
    "\n",
    "class BaseStation():\n",
    "\n",
    "    def __init__(self, x, y):\n",
    "        self.position = (x,y)\n",
    "        self.packetRecv = 0\n",
    "        self.packets_received = []\n",
    "        self.totalTtl=0\n",
    "       \n",
    "\n",
    "    def acceptPacket(self, packet):\n",
    "        self.packetRecv += 1\n",
    "        self.totalTtl+=packet.get_ttl()\n",
    "        self.packets_received.append(packet)\n",
    "\n",
    "    # def getReward(self):\n",
    "    #     ttl = self.packets_received[-1].get_ttl()\n",
    "    #     return scale_base_reward*ttl*ttl\n",
    "\n",
    "    def getPosition(self):\n",
    "        return self.position\n",
    "\n",
    "    def isUAV(self):\n",
    "        return False\n",
    "    \n",
    "    def isBase(self):\n",
    "        return True\n",
    "     \n",
    "    def isIot(self):\n",
    "        return False\n",
    "\n",
    "\n",
    "    def isBlock(self):\n",
    "        return False\n",
    "    \n",
    "    def getVal(self):\n",
    "        return self.packetRecv\n",
    "\n",
    "    def reset(self):\n",
    "        \"\"\"\n",
    "        reset everything in the agent to turn on test mode\n",
    "        \"\"\"\n",
    "        self.packetRecv = 0\n",
    "        self.packets_received = []\n",
    "        self.totalTtl=0"
   ]
  },
  {
   "cell_type": "code",
   "execution_count": null,
   "id": "b7f5d21d-85b7-4c7b-aa0e-7105ac9173ba",
   "metadata": {},
   "outputs": [],
   "source": []
  }
 ],
 "metadata": {
  "kernelspec": {
   "display_name": "Python 3 (ipykernel)",
   "language": "python",
   "name": "python3"
  },
  "language_info": {
   "codemirror_mode": {
    "name": "ipython",
    "version": 3
   },
   "file_extension": ".py",
   "mimetype": "text/x-python",
   "name": "python",
   "nbconvert_exporter": "python",
   "pygments_lexer": "ipython3",
   "version": "3.11.8"
  }
 },
 "nbformat": 4,
 "nbformat_minor": 5
}
