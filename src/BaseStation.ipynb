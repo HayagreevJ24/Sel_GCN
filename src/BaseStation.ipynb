{
 "cells": [
  {
   "cell_type": "code",
   "execution_count": null,
   "id": "3a573fb4-ed8d-4f40-a788-2808b19d2569",
   "metadata": {},
   "outputs": [],
   "source": [
    "%run src/Packets.ipynb"
   ]
  },
  {
   "cell_type": "code",
   "execution_count": 2,
   "id": "47c4bbc9-7c2b-4018-b0fe-360e706dc6d4",
   "metadata": {},
   "outputs": [],
   "source": [
    "\n",
    "class BaseStation():\n",
    "\n",
    "    def __init__(self, x, y):\n",
    "        self.position = (x,y)\n",
    "        self.packetRecv = 0\n",
    "        self.packets_received = []\n",
    "        self.totalTtl=0\n",
    "       \n",
    "\n",
    "    def acceptPacket(self, packet):\n",
    "        self.packetRecv += 1\n",
    "        self.totalTtl+=packet.get_ttl()\n",
    "        self.packets_received.append(packet)\n",
    "\n",
    "    def getPosition(self):\n",
    "        return self.position\n",
    "\n",
    "    def isUAV(self):\n",
    "        return False\n",
    "    \n",
    "    def isBase(self):\n",
    "        return True\n",
    "     \n",
    "    def isIot(self):\n",
    "        return False\n",
    "\n",
    "\n",
    "    def isBlock(self):\n",
    "        return False\n",
    "    \n",
    "    def getVal(self):\n",
    "        return self.packetRecv\n",
    "\n",
    "    def reset(self):\n",
    "        self.packetRecv = 0\n",
    "        self.packets_received = []\n",
    "        self.totalTtl=0"
   ]
  },
  {
   "cell_type": "code",
   "execution_count": null,
   "id": "b7f5d21d-85b7-4c7b-aa0e-7105ac9173ba",
   "metadata": {},
   "outputs": [],
   "source": []
  }
 ],
 "metadata": {
  "kernelspec": {
   "display_name": "Python 3 (ipykernel)",
   "language": "python",
   "name": "python3"
  },
  "language_info": {
   "codemirror_mode": {
    "name": "ipython",
    "version": 3
   },
   "file_extension": ".py",
   "mimetype": "text/x-python",
   "name": "python",
   "nbconvert_exporter": "python",
   "pygments_lexer": "ipython3",
   "version": "3.12.2"
  }
 },
 "nbformat": 4,
 "nbformat_minor": 5
}
