{
 "cells": [
  {
   "cell_type": "code",
   "execution_count": 1,
   "id": "2299fc25-3b83-4a4f-bc09-052617097fef",
   "metadata": {},
   "outputs": [],
   "source": [
    "class packet():\n",
    "    \n",
    "    def __init__(self,ttl):\n",
    "        self.ttl=ttl\n",
    "        self.path = []\n",
    "\n",
    "    def decrease_ttl(self):\n",
    "        self.ttl-=1\n",
    "        \n",
    "    def get_ttl(self):\n",
    "        return self.ttl\n",
    "    \n",
    "    def getPath(self):\n",
    "        return self.path\n",
    "\n",
    "    def addToPath(self, node):\n",
    "        self.path.append(node)"
   ]
  },
  {
   "cell_type": "code",
   "execution_count": null,
   "id": "a22bb4b7-3972-4f72-a1f8-94505ba35518",
   "metadata": {},
   "outputs": [],
   "source": []
  }
 ],
 "metadata": {
  "kernelspec": {
   "display_name": "Python 3 (ipykernel)",
   "language": "python",
   "name": "python3"
  },
  "language_info": {
   "codemirror_mode": {
    "name": "ipython",
    "version": 3
   },
   "file_extension": ".py",
   "mimetype": "text/x-python",
   "name": "python",
   "nbconvert_exporter": "python",
   "pygments_lexer": "ipython3",
   "version": "3.12.2"
  }
 },
 "nbformat": 4,
 "nbformat_minor": 5
}
