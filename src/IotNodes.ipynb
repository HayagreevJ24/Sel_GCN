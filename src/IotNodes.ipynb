{
 "cells": [
  {
   "cell_type": "code",
   "execution_count": null,
   "id": "4efb46bf-4002-447e-8269-c8610a8d0e03",
   "metadata": {},
   "outputs": [],
   "source": [
    "%run src/Packets.ipynb\n",
    "%run src/Agent.ipynb"
   ]
  },
  {
   "cell_type": "code",
   "execution_count": null,
   "id": "d1a27074-13dd-488a-aca4-8bebf6086c60",
   "metadata": {},
   "outputs": [],
   "source": [
    "import sys\n",
    "sys.path.append(\".\")\n",
    "import numpy as np"
   ]
  },
  {
   "cell_type": "code",
   "execution_count": null,
   "id": "64e89a27-5008-4d82-bb30-21b6033e668d",
   "metadata": {},
   "outputs": [],
   "source": [
    "class IotNodes():\n",
    "\n",
    "    def __init__(self, rate, def_ttl, x, y, transmission_rate = 10):\n",
    "        self.rate = rate\n",
    "        self.def_ttl = def_ttl\n",
    "        self.position = (x,y)\n",
    "        self.neighbours = []\n",
    "        self.total_packets = 0\n",
    "        self.queue = []  "
   ]
  },
  {
   "cell_type": "code",
   "execution_count": null,
   "id": "cf10542e-ecec-470e-a373-e98acb16597a",
   "metadata": {},
   "outputs": [],
   "source": [
    "class IotNodes(IotNodes):    \n",
    "    def generatePacket(self):\n",
    "        num_packets = self.rate\n",
    "        self.total_packets += num_packets\n",
    "        for i in range(num_packets):\n",
    "            self.queue.append(packet(self.def_ttl))"
   ]
  },
  {
   "cell_type": "code",
   "execution_count": null,
   "id": "a3ab594f-1144-484c-a3e2-ab2fefcfd473",
   "metadata": {},
   "outputs": [],
   "source": [
    "class IotNodes(IotNodes):       \n",
    "    def findNeighbour(self):\n",
    "        for agent in self.neighbours:\n",
    "            if(agent.isBase()):\n",
    "                return agent\n",
    "        queues = np.array([agent.getVal() for agent in self.neighbours])\n",
    "        agents = [agent for agent in self.neighbours]\n",
    "        return agents[ np.argmin(queues) ]"
   ]
  },
  {
   "cell_type": "code",
   "execution_count": null,
   "id": "97b003ba-9bed-4ead-ba03-84f01be4ea62",
   "metadata": {},
   "outputs": [],
   "source": [
    "class IotNodes(IotNodes):   \n",
    "    def isUAV(self):\n",
    "        return False\n",
    "      \n",
    "    def isBase(self):\n",
    "        return False\n",
    "     \n",
    "    def isIot(self):\n",
    "        return True\n",
    "\n",
    "    def isBaseStation(self):\n",
    "        return False\n",
    "\n",
    "    def isBlock(self):\n",
    "        return False"
   ]
  },
  {
   "cell_type": "code",
   "execution_count": null,
   "id": "17bd3d6a-3fec-4145-aaa2-c77808b8feb5",
   "metadata": {},
   "outputs": [],
   "source": [
    "class IotNodes(IotNodes):   \n",
    "    def run(self):\n",
    "        self.generatePacket()\n",
    "        for i in range(self.rate):\n",
    "            if len(self.neighbours)==0:\n",
    "                continue\n",
    "            if self.getQueueSize() > 0:   \n",
    "                packet = self.queue.pop(0)\n",
    "                agent=self.findNeighbour()\n",
    "                agent.acceptPacket(packet)"
   ]
  },
  {
   "cell_type": "code",
   "execution_count": null,
   "id": "46715643-db56-49e0-a611-e3c7f50e6405",
   "metadata": {},
   "outputs": [],
   "source": [
    "class IotNodes(IotNodes):   \n",
    "    def getPosition(self):\n",
    "        return self.position\n",
    "\n",
    "    def addNeighbour(self,neighbour: Agent):\n",
    "        self.neighbours.append(neighbour)\n",
    "\n",
    "    def getVal(self):              \n",
    "        return self.total_packets\n",
    "\n",
    "    def getQueueSize(self):\n",
    "        return len(self.queue)"
   ]
  },
  {
   "cell_type": "markdown",
   "id": "8ee43b40-bb4b-4e25-8552-0ffcb8ecb0b8",
   "metadata": {},
   "source": [
    "reset the number of total_packets and the queue"
   ]
  },
  {
   "cell_type": "code",
   "execution_count": null,
   "id": "2f98e94a-c14e-4542-afb1-898dc7aeb7af",
   "metadata": {},
   "outputs": [],
   "source": [
    "class IotNodes(IotNodes):   \n",
    "    def reset(self):\n",
    "        self.total_packets=0\n",
    "        self.queue = []"
   ]
  },
  {
   "cell_type": "code",
   "execution_count": null,
   "id": "470e41ff-4704-4489-88d7-a877ee39d2ab",
   "metadata": {},
   "outputs": [],
   "source": []
  }
 ],
 "metadata": {
  "kernelspec": {
   "display_name": "Python 3 (ipykernel)",
   "language": "python",
   "name": "python3"
  },
  "language_info": {
   "codemirror_mode": {
    "name": "ipython",
    "version": 3
   },
   "file_extension": ".py",
   "mimetype": "text/x-python",
   "name": "python",
   "nbconvert_exporter": "python",
   "pygments_lexer": "ipython3",
   "version": "3.12.2"
  }
 },
 "nbformat": 4,
 "nbformat_minor": 5
}
