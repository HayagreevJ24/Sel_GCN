{
 "cells": [
  {
   "cell_type": "code",
   "execution_count": null,
   "id": "dba1c4fe-47b9-41a0-9893-13f7f7b06ec0",
   "metadata": {},
   "outputs": [],
   "source": [
    "%run src/utils.ipynb"
   ]
  },
  {
   "cell_type": "code",
   "execution_count": null,
   "id": "fb6cd717-bd60-4357-b641-e867e2356682",
   "metadata": {},
   "outputs": [],
   "source": [
    "class Agent():\n",
    "    def __init__(self, node, neighbours, x,y,BaseStation): \n",
    "        self.node = node\n",
    "        self.num_packets_rec = 0\n",
    "        self.queue = []\n",
    "        self.neighbours = neighbours\n",
    "        self.position = (x,y)\n",
    "        self.latest_queue = []"
   ]
  },
  {
   "cell_type": "code",
   "execution_count": null,
   "id": "9d45c9e3-136b-4693-bb7e-c34062867ea4",
   "metadata": {},
   "outputs": [],
   "source": [
    "class Agent(Agent):\n",
    "    def getCurrentState(self):\n",
    "        state = [len(self.queue)]\n",
    "        for neighbour in self.neighbours:\n",
    "            if not neighbour.isBase():\n",
    "                state.append(len(neighbour.queue))\n",
    "            else:\n",
    "                state.append(0) \n",
    "        return state"
   ]
  },
  {
   "cell_type": "code",
   "execution_count": null,
   "id": "be5360c8-0fc8-44c3-a2b2-36cdfda72dda",
   "metadata": {},
   "outputs": [],
   "source": [
    "class Agent(Agent):\n",
    "\n",
    "    def pushQueue(self, packet):\n",
    "        self.queue.append(packet)\n",
    "        return True                           \n",
    "    \n",
    "    def popQueue(self):\n",
    "        if len(self.queue) == 0 :\n",
    "            return -1\n",
    "        return self.queue.pop(0)\n",
    "\n",
    "    def getTopPacket(self):\n",
    "        if len(self.latest_queue) == 0:\n",
    "            return -1\n",
    "        return self.latest_queue[-1]\n"
   ]
  },
  {
   "cell_type": "code",
   "execution_count": null,
   "id": "d54abc96-847d-4727-9b43-18caf4dbce4b",
   "metadata": {},
   "outputs": [],
   "source": [
    "class Agent(Agent):\n",
    "\n",
    "    def acceptPacket(self,packet):\n",
    "        packet.addToPath(self.node)\n",
    "        self.num_packets_rec += 1\n",
    "        self.latest_queue.append(packet)\n",
    "\n",
    "    def getPosition(self):\n",
    "        return self.position"
   ]
  },
  {
   "cell_type": "code",
   "execution_count": null,
   "id": "966a7287-30c6-4357-a73f-05be097d86a1",
   "metadata": {},
   "outputs": [],
   "source": [
    "class Agent(Agent):\n",
    "    def addNeighbour(self,neighbour):\n",
    "        self.neighbours.append(neighbour)"
   ]
  },
  {
   "cell_type": "code",
   "execution_count": null,
   "id": "bb54cbca-b149-4130-8868-b3195319b9e8",
   "metadata": {},
   "outputs": [],
   "source": [
    "class Agent(Agent):\n",
    "    def isUAV(self):\n",
    "        return True\n",
    "    \n",
    "    def isBase(self):\n",
    "        return False\n",
    "     \n",
    "    def isIot(self):\n",
    "        return False\n",
    "\n",
    "    def isBaseStation(self):\n",
    "        return False\n",
    "\n",
    "    def isBlock(self):\n",
    "        return False"
   ]
  },
  {
   "cell_type": "code",
   "execution_count": null,
   "id": "f3204b92-4b60-4678-8e99-f3b578456c4e",
   "metadata": {},
   "outputs": [],
   "source": [
    "class Agent(Agent):    \n",
    "    def getVal(self):\n",
    "        return len(self.queue)\n",
    "\n",
    "    def reset(self):\n",
    "        self.queue = []\n",
    "\n",
    "    def update_state(self):\n",
    "        for packets in self.latest_queue:\n",
    "            self.queue.append(packets)\n",
    "        self.latest_queue = []"
   ]
  },
  {
   "cell_type": "code",
   "execution_count": null,
   "id": "7bbe2e63-39f2-4d03-9728-68f49123d155",
   "metadata": {},
   "outputs": [],
   "source": []
  }
 ],
 "metadata": {
  "kernelspec": {
   "display_name": "Python 3 (ipykernel)",
   "language": "python",
   "name": "python3"
  },
  "language_info": {
   "codemirror_mode": {
    "name": "ipython",
    "version": 3
   },
   "file_extension": ".py",
   "mimetype": "text/x-python",
   "name": "python",
   "nbconvert_exporter": "python",
   "pygments_lexer": "ipython3",
   "version": "3.12.2"
  }
 },
 "nbformat": 4,
 "nbformat_minor": 5
}
